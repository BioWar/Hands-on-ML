{
 "cells": [
  {
   "cell_type": "code",
   "execution_count": 2,
   "metadata": {},
   "outputs": [],
   "source": [
    "# Python ≥3.5 is required\n",
    "import sys\n",
    "assert sys.version_info >= (3, 5)\n",
    "\n",
    "# Scikit-Learn ≥0.20 is required\n",
    "import sklearn\n",
    "assert sklearn.__version__ >= \"0.20\"\n",
    "\n",
    "# Common imports\n",
    "import numpy as np\n",
    "import os\n",
    "\n",
    "# to make this notebook's output stable across runs\n",
    "np.random.seed(42)\n",
    "\n",
    "# To plot pretty figures\n",
    "%matplotlib inline\n",
    "import matplotlib as mpl\n",
    "import matplotlib.pyplot as plt\n",
    "mpl.rc('axes', labelsize=14)\n",
    "mpl.rc('xtick', labelsize=12)\n",
    "mpl.rc('ytick', labelsize=12)\n",
    "\n",
    "# Where to save the figures\n",
    "PROJECT_ROOT_DIR = \".\"\n",
    "CHAPTER_ID = \"ensembles\"\n",
    "IMAGES_PATH = os.path.join(PROJECT_ROOT_DIR, \"images\", CHAPTER_ID)\n",
    "os.makedirs(IMAGES_PATH, exist_ok=True)\n",
    "\n",
    "def save_fig(fig_id, tight_layout=True, fig_extension=\"png\", resolution=300):\n",
    "    path = os.path.join(IMAGES_PATH, fig_id + \".\" + fig_extension)\n",
    "    print(\"Saving figure\", fig_id)\n",
    "    if tight_layout:\n",
    "        plt.tight_layout()\n",
    "    plt.savefig(path, format=fig_extension, dpi=resolution)"
   ]
  },
  {
   "cell_type": "code",
   "execution_count": 3,
   "metadata": {},
   "outputs": [],
   "source": [
    "from sklearn.model_selection import train_test_split\n",
    "from sklearn.datasets import make_moons\n",
    "\n",
    "X, y = make_moons(n_samples=500, noise=0.30, random_state=42)\n",
    "X_train, X_test, y_train, y_test = train_test_split(X, y, random_state=42)"
   ]
  },
  {
   "cell_type": "code",
   "execution_count": 8,
   "metadata": {},
   "outputs": [
    {
     "data": {
      "text/plain": [
       "VotingClassifier(estimators=[('lr',\n",
       "                              LogisticRegression(C=1.0, class_weight=None,\n",
       "                                                 dual=False, fit_intercept=True,\n",
       "                                                 intercept_scaling=1,\n",
       "                                                 l1_ratio=None, max_iter=100,\n",
       "                                                 multi_class='auto',\n",
       "                                                 n_jobs=None, penalty='l2',\n",
       "                                                 random_state=None,\n",
       "                                                 solver='lbfgs', tol=0.0001,\n",
       "                                                 verbose=0, warm_start=False)),\n",
       "                             ('rf',\n",
       "                              RandomForestClassifier(bootstrap=True,\n",
       "                                                     ccp_alpha=0.0,\n",
       "                                                     class_weight=None,\n",
       "                                                     cr...\n",
       "                                                     oob_score=False,\n",
       "                                                     random_state=None,\n",
       "                                                     verbose=0,\n",
       "                                                     warm_start=False)),\n",
       "                             ('svc',\n",
       "                              SVC(C=1.0, break_ties=False, cache_size=200,\n",
       "                                  class_weight=None, coef0=0.0,\n",
       "                                  decision_function_shape='ovr', degree=3,\n",
       "                                  gamma='scale', kernel='rbf', max_iter=-1,\n",
       "                                  probability=True, random_state=None,\n",
       "                                  shrinking=True, tol=0.001, verbose=False))],\n",
       "                 flatten_transform=True, n_jobs=None, voting='soft',\n",
       "                 weights=None)"
      ]
     },
     "execution_count": 8,
     "metadata": {},
     "output_type": "execute_result"
    }
   ],
   "source": [
    "from sklearn.ensemble import RandomForestClassifier\n",
    "from sklearn.ensemble import VotingClassifier\n",
    "from sklearn.linear_model import LogisticRegression\n",
    "from sklearn.svm import SVC\n",
    "\n",
    "log_clf = LogisticRegression()\n",
    "rnd_clf = RandomForestClassifier()\n",
    "svm_clf = SVC(probability=True)\n",
    "\n",
    "voting_clf = VotingClassifier(estimators=[(\"lr\", log_clf),\n",
    "                                          (\"rf\", rnd_clf),\n",
    "                                          (\"svc\", svm_clf)],\n",
    "                              voting=\"soft\")\n",
    "voting_clf.fit(X_train, y_train)"
   ]
  },
  {
   "cell_type": "code",
   "execution_count": 9,
   "metadata": {},
   "outputs": [
    {
     "name": "stdout",
     "output_type": "stream",
     "text": [
      "Accuracy of LogisticRegression equals 0.864.\n",
      "Accuracy of RandomForestClassifier equals 0.896.\n",
      "Accuracy of SVC equals 0.896.\n",
      "Accuracy of VotingClassifier equals 0.92.\n"
     ]
    }
   ],
   "source": [
    "from sklearn.metrics import accuracy_score\n",
    "for clf in (log_clf, rnd_clf, svm_clf, voting_clf):\n",
    "    clf.fit(X_train, y_train)\n",
    "    y_pred = clf.predict(X_test)\n",
    "    print(f'Accuracy of {clf.__class__.__name__} equals {accuracy_score(y_test, y_pred)}.')"
   ]
  },
  {
   "cell_type": "code",
   "execution_count": 10,
   "metadata": {},
   "outputs": [
    {
     "data": {
      "text/plain": [
       "0.928"
      ]
     },
     "execution_count": 10,
     "metadata": {},
     "output_type": "execute_result"
    }
   ],
   "source": [
    "from sklearn.ensemble import BaggingClassifier\n",
    "from sklearn.tree import DecisionTreeClassifier\n",
    "\n",
    "bag_clf = BaggingClassifier(DecisionTreeClassifier(),\n",
    "                            n_estimators=500,\n",
    "                            max_samples=100,\n",
    "                            bootstrap=True,\n",
    "                            n_jobs=-1)\n",
    "bag_clf.fit(X_train, y_train)\n",
    "y_pred = bag_clf.predict(X_test)\n",
    "accuracy_score(y_test, y_pred)"
   ]
  },
  {
   "cell_type": "code",
   "execution_count": 12,
   "metadata": {},
   "outputs": [
    {
     "data": {
      "text/plain": [
       "0.8986666666666666"
      ]
     },
     "execution_count": 12,
     "metadata": {},
     "output_type": "execute_result"
    }
   ],
   "source": [
    "bag_clf = BaggingClassifier(DecisionTreeClassifier(),\n",
    "                            n_estimators=500,\n",
    "                            bootstrap=True,\n",
    "                            n_jobs=-1,\n",
    "                            oob_score=True)\n",
    "\n",
    "bag_clf.fit(X_train, y_train)\n",
    "bag_clf.oob_score_"
   ]
  },
  {
   "cell_type": "code",
   "execution_count": 13,
   "metadata": {},
   "outputs": [
    {
     "data": {
      "text/plain": [
       "0.896"
      ]
     },
     "execution_count": 13,
     "metadata": {},
     "output_type": "execute_result"
    }
   ],
   "source": [
    "y_pred = bag_clf.predict(X_test)\n",
    "accuracy_score(y_test, y_pred)"
   ]
  },
  {
   "cell_type": "code",
   "execution_count": 14,
   "metadata": {},
   "outputs": [
    {
     "data": {
      "text/plain": [
       "array([[0.41899441, 0.58100559],\n",
       "       [0.37362637, 0.62637363],\n",
       "       [1.        , 0.        ],\n",
       "       [0.        , 1.        ],\n",
       "       [0.        , 1.        ],\n",
       "       [0.0591716 , 0.9408284 ],\n",
       "       [0.35135135, 0.64864865],\n",
       "       [0.00966184, 0.99033816],\n",
       "       [0.99047619, 0.00952381],\n",
       "       [0.98907104, 0.01092896],\n",
       "       [0.7638191 , 0.2361809 ],\n",
       "       [0.01010101, 0.98989899],\n",
       "       [0.77005348, 0.22994652],\n",
       "       [0.81025641, 0.18974359],\n",
       "       [0.95505618, 0.04494382],\n",
       "       [0.05521472, 0.94478528],\n",
       "       [0.        , 1.        ],\n",
       "       [0.97093023, 0.02906977],\n",
       "       [0.95081967, 0.04918033],\n",
       "       [0.97660819, 0.02339181],\n",
       "       [0.01666667, 0.98333333],\n",
       "       [0.31707317, 0.68292683],\n",
       "       [0.92265193, 0.07734807],\n",
       "       [1.        , 0.        ],\n",
       "       [0.97837838, 0.02162162],\n",
       "       [0.        , 1.        ],\n",
       "       [1.        , 0.        ],\n",
       "       [1.        , 0.        ],\n",
       "       [0.        , 1.        ],\n",
       "       [0.68586387, 0.31413613],\n",
       "       [0.        , 1.        ],\n",
       "       [1.        , 0.        ],\n",
       "       [0.        , 1.        ],\n",
       "       [0.        , 1.        ],\n",
       "       [0.17241379, 0.82758621],\n",
       "       [1.        , 0.        ],\n",
       "       [0.01025641, 0.98974359],\n",
       "       [0.35714286, 0.64285714],\n",
       "       [0.        , 1.        ],\n",
       "       [1.        , 0.        ],\n",
       "       [0.26666667, 0.73333333],\n",
       "       [0.36597938, 0.63402062],\n",
       "       [1.        , 0.        ],\n",
       "       [1.        , 0.        ],\n",
       "       [0.        , 1.        ],\n",
       "       [1.        , 0.        ],\n",
       "       [1.        , 0.        ],\n",
       "       [0.02531646, 0.97468354],\n",
       "       [1.        , 0.        ],\n",
       "       [0.00555556, 0.99444444],\n",
       "       [0.99441341, 0.00558659],\n",
       "       [0.86387435, 0.13612565],\n",
       "       [0.95767196, 0.04232804],\n",
       "       [0.98351648, 0.01648352],\n",
       "       [0.        , 1.        ],\n",
       "       [0.03535354, 0.96464646],\n",
       "       [0.98255814, 0.01744186],\n",
       "       [0.        , 1.        ],\n",
       "       [0.        , 1.        ],\n",
       "       [0.00549451, 0.99450549],\n",
       "       [0.985     , 0.015     ],\n",
       "       [0.79081633, 0.20918367],\n",
       "       [0.44497608, 0.55502392],\n",
       "       [1.        , 0.        ],\n",
       "       [0.        , 1.        ],\n",
       "       [0.65030675, 0.34969325],\n",
       "       [1.        , 0.        ],\n",
       "       [1.        , 0.        ],\n",
       "       [0.83428571, 0.16571429],\n",
       "       [1.        , 0.        ],\n",
       "       [0.66304348, 0.33695652],\n",
       "       [0.10555556, 0.89444444],\n",
       "       [0.68205128, 0.31794872],\n",
       "       [0.94871795, 0.05128205],\n",
       "       [0.        , 1.        ],\n",
       "       [0.13903743, 0.86096257],\n",
       "       [0.86458333, 0.13541667],\n",
       "       [1.        , 0.        ],\n",
       "       [0.        , 1.        ],\n",
       "       [1.        , 0.        ],\n",
       "       [0.        , 1.        ],\n",
       "       [0.0273224 , 0.9726776 ],\n",
       "       [0.02083333, 0.97916667],\n",
       "       [0.32446809, 0.67553191],\n",
       "       [1.        , 0.        ],\n",
       "       [0.        , 1.        ],\n",
       "       [0.83606557, 0.16393443],\n",
       "       [0.01092896, 0.98907104],\n",
       "       [0.        , 1.        ],\n",
       "       [0.        , 1.        ],\n",
       "       [0.28089888, 0.71910112],\n",
       "       [1.        , 0.        ],\n",
       "       [0.        , 1.        ],\n",
       "       [0.        , 1.        ],\n",
       "       [0.        , 1.        ],\n",
       "       [0.9691358 , 0.0308642 ],\n",
       "       [0.78333333, 0.21666667],\n",
       "       [0.00584795, 0.99415205],\n",
       "       [1.        , 0.        ],\n",
       "       [0.22222222, 0.77777778],\n",
       "       [0.61538462, 0.38461538],\n",
       "       [0.        , 1.        ],\n",
       "       [0.02197802, 0.97802198],\n",
       "       [0.47777778, 0.52222222],\n",
       "       [1.        , 0.        ],\n",
       "       [0.01675978, 0.98324022],\n",
       "       [0.98888889, 0.01111111],\n",
       "       [0.25433526, 0.74566474],\n",
       "       [0.53977273, 0.46022727],\n",
       "       [1.        , 0.        ],\n",
       "       [0.03488372, 0.96511628],\n",
       "       [0.99418605, 0.00581395],\n",
       "       [0.30508475, 0.69491525],\n",
       "       [0.89175258, 0.10824742],\n",
       "       [1.        , 0.        ],\n",
       "       [1.        , 0.        ],\n",
       "       [0.        , 1.        ],\n",
       "       [0.        , 1.        ],\n",
       "       [0.80412371, 0.19587629],\n",
       "       [1.        , 0.        ],\n",
       "       [0.        , 1.        ],\n",
       "       [1.        , 0.        ],\n",
       "       [1.        , 0.        ],\n",
       "       [1.        , 0.        ],\n",
       "       [0.98941799, 0.01058201],\n",
       "       [1.        , 0.        ],\n",
       "       [0.        , 1.        ],\n",
       "       [0.94974874, 0.05025126],\n",
       "       [1.        , 0.        ],\n",
       "       [0.01123596, 0.98876404],\n",
       "       [0.2295082 , 0.7704918 ],\n",
       "       [0.95408163, 0.04591837],\n",
       "       [0.29714286, 0.70285714],\n",
       "       [0.97802198, 0.02197802],\n",
       "       [0.        , 1.        ],\n",
       "       [0.        , 1.        ],\n",
       "       [0.63583815, 0.36416185],\n",
       "       [0.35028249, 0.64971751],\n",
       "       [0.41420118, 0.58579882],\n",
       "       [0.89637306, 0.10362694],\n",
       "       [0.94642857, 0.05357143],\n",
       "       [0.02840909, 0.97159091],\n",
       "       [0.70056497, 0.29943503],\n",
       "       [0.        , 1.        ],\n",
       "       [0.        , 1.        ],\n",
       "       [0.01546392, 0.98453608],\n",
       "       [0.97969543, 0.02030457],\n",
       "       [0.99431818, 0.00568182],\n",
       "       [1.        , 0.        ],\n",
       "       [0.01595745, 0.98404255],\n",
       "       [0.        , 1.        ],\n",
       "       [0.02380952, 0.97619048],\n",
       "       [0.        , 1.        ],\n",
       "       [1.        , 0.        ],\n",
       "       [1.        , 0.        ],\n",
       "       [0.95348837, 0.04651163],\n",
       "       [1.        , 0.        ],\n",
       "       [1.        , 0.        ],\n",
       "       [0.99481865, 0.00518135],\n",
       "       [0.        , 1.        ],\n",
       "       [0.43850267, 0.56149733],\n",
       "       [0.27840909, 0.72159091],\n",
       "       [0.01570681, 0.98429319],\n",
       "       [0.00546448, 0.99453552],\n",
       "       [0.30653266, 0.69346734],\n",
       "       [1.        , 0.        ],\n",
       "       [1.        , 0.        ],\n",
       "       [0.        , 1.        ],\n",
       "       [1.        , 0.        ],\n",
       "       [0.00526316, 0.99473684],\n",
       "       [0.        , 1.        ],\n",
       "       [0.99473684, 0.00526316],\n",
       "       [0.        , 1.        ],\n",
       "       [0.        , 1.        ],\n",
       "       [1.        , 0.        ],\n",
       "       [0.        , 1.        ],\n",
       "       [0.6779661 , 0.3220339 ],\n",
       "       [0.96319018, 0.03680982],\n",
       "       [0.        , 1.        ],\n",
       "       [0.98913043, 0.01086957],\n",
       "       [1.        , 0.        ],\n",
       "       [1.        , 0.        ],\n",
       "       [0.        , 1.        ],\n",
       "       [0.        , 1.        ],\n",
       "       [1.        , 0.        ],\n",
       "       [0.07936508, 0.92063492],\n",
       "       [1.        , 0.        ],\n",
       "       [0.03825137, 0.96174863],\n",
       "       [0.        , 1.        ],\n",
       "       [1.        , 0.        ],\n",
       "       [0.        , 1.        ],\n",
       "       [0.02312139, 0.97687861],\n",
       "       [0.99492386, 0.00507614],\n",
       "       [0.93236715, 0.06763285],\n",
       "       [0.72375691, 0.27624309],\n",
       "       [0.55172414, 0.44827586],\n",
       "       [0.        , 1.        ],\n",
       "       [0.18947368, 0.81052632],\n",
       "       [1.        , 0.        ],\n",
       "       [0.97252747, 0.02747253],\n",
       "       [0.97619048, 0.02380952],\n",
       "       [1.        , 0.        ],\n",
       "       [0.00584795, 0.99415205],\n",
       "       [0.        , 1.        ],\n",
       "       [0.4120603 , 0.5879397 ],\n",
       "       [0.84574468, 0.15425532],\n",
       "       [0.        , 1.        ],\n",
       "       [0.        , 1.        ],\n",
       "       [1.        , 0.        ],\n",
       "       [0.01176471, 0.98823529],\n",
       "       [0.        , 1.        ],\n",
       "       [0.98404255, 0.01595745],\n",
       "       [0.        , 1.        ],\n",
       "       [0.26136364, 0.73863636],\n",
       "       [0.        , 1.        ],\n",
       "       [1.        , 0.        ],\n",
       "       [0.        , 1.        ],\n",
       "       [0.        , 1.        ],\n",
       "       [0.97222222, 0.02777778],\n",
       "       [0.80107527, 0.19892473],\n",
       "       [1.        , 0.        ],\n",
       "       [0.00568182, 0.99431818],\n",
       "       [0.05084746, 0.94915254],\n",
       "       [0.98870056, 0.01129944],\n",
       "       [0.01764706, 0.98235294],\n",
       "       [0.        , 1.        ],\n",
       "       [0.05319149, 0.94680851],\n",
       "       [1.        , 0.        ],\n",
       "       [0.76616915, 0.23383085],\n",
       "       [0.        , 1.        ],\n",
       "       [0.87570621, 0.12429379],\n",
       "       [0.99401198, 0.00598802],\n",
       "       [0.20634921, 0.79365079],\n",
       "       [0.25252525, 0.74747475],\n",
       "       [1.        , 0.        ],\n",
       "       [0.        , 1.        ],\n",
       "       [0.        , 1.        ],\n",
       "       [0.        , 1.        ],\n",
       "       [0.19704433, 0.80295567],\n",
       "       [0.95454545, 0.04545455],\n",
       "       [0.        , 1.        ],\n",
       "       [1.        , 0.        ],\n",
       "       [0.99      , 0.01      ],\n",
       "       [0.        , 1.        ],\n",
       "       [0.55851064, 0.44148936],\n",
       "       [1.        , 0.        ],\n",
       "       [0.        , 1.        ],\n",
       "       [1.        , 0.        ],\n",
       "       [0.        , 1.        ],\n",
       "       [0.        , 1.        ],\n",
       "       [0.13736264, 0.86263736],\n",
       "       [0.0591716 , 0.9408284 ],\n",
       "       [0.96774194, 0.03225806],\n",
       "       [0.0239521 , 0.9760479 ],\n",
       "       [1.        , 0.        ],\n",
       "       [0.32994924, 0.67005076],\n",
       "       [0.11640212, 0.88359788],\n",
       "       [0.50810811, 0.49189189],\n",
       "       [0.56395349, 0.43604651],\n",
       "       [0.        , 1.        ],\n",
       "       [1.        , 0.        ],\n",
       "       [0.        , 1.        ],\n",
       "       [0.        , 1.        ],\n",
       "       [0.60335196, 0.39664804],\n",
       "       [0.        , 1.        ],\n",
       "       [1.        , 0.        ],\n",
       "       [0.24852071, 0.75147929],\n",
       "       [0.79781421, 0.20218579],\n",
       "       [0.08376963, 0.91623037],\n",
       "       [1.        , 0.        ],\n",
       "       [0.87134503, 0.12865497],\n",
       "       [0.        , 1.        ],\n",
       "       [0.        , 1.        ],\n",
       "       [0.11428571, 0.88571429],\n",
       "       [0.02139037, 0.97860963],\n",
       "       [0.        , 1.        ],\n",
       "       [1.        , 0.        ],\n",
       "       [0.91160221, 0.08839779],\n",
       "       [0.16853933, 0.83146067],\n",
       "       [0.93258427, 0.06741573],\n",
       "       [0.00595238, 0.99404762],\n",
       "       [0.57653061, 0.42346939],\n",
       "       [0.0887574 , 0.9112426 ],\n",
       "       [0.99468085, 0.00531915],\n",
       "       [0.82105263, 0.17894737],\n",
       "       [0.        , 1.        ],\n",
       "       [1.        , 0.        ],\n",
       "       [0.96531792, 0.03468208],\n",
       "       [0.        , 1.        ],\n",
       "       [0.        , 1.        ],\n",
       "       [1.        , 0.        ],\n",
       "       [0.        , 1.        ],\n",
       "       [1.        , 0.        ],\n",
       "       [0.27083333, 0.72916667],\n",
       "       [0.99009901, 0.00990099],\n",
       "       [1.        , 0.        ],\n",
       "       [0.        , 1.        ],\n",
       "       [0.00584795, 0.99415205],\n",
       "       [0.84090909, 0.15909091],\n",
       "       [0.        , 1.        ],\n",
       "       [1.        , 0.        ],\n",
       "       [0.72195122, 0.27804878],\n",
       "       [0.95073892, 0.04926108],\n",
       "       [1.        , 0.        ],\n",
       "       [0.72251309, 0.27748691],\n",
       "       [0.52659574, 0.47340426],\n",
       "       [0.        , 1.        ],\n",
       "       [0.92063492, 0.07936508],\n",
       "       [0.01197605, 0.98802395],\n",
       "       [1.        , 0.        ],\n",
       "       [0.86046512, 0.13953488],\n",
       "       [1.        , 0.        ],\n",
       "       [1.        , 0.        ],\n",
       "       [0.78333333, 0.21666667],\n",
       "       [0.09950249, 0.90049751],\n",
       "       [0.49122807, 0.50877193],\n",
       "       [0.28421053, 0.71578947],\n",
       "       [0.        , 1.        ],\n",
       "       [0.84656085, 0.15343915],\n",
       "       [0.8164557 , 0.1835443 ],\n",
       "       [0.00529101, 0.99470899],\n",
       "       [1.        , 0.        ],\n",
       "       [0.98543689, 0.01456311],\n",
       "       [1.        , 0.        ],\n",
       "       [0.        , 1.        ],\n",
       "       [0.02072539, 0.97927461],\n",
       "       [0.97237569, 0.02762431],\n",
       "       [0.96045198, 0.03954802],\n",
       "       [1.        , 0.        ],\n",
       "       [0.52631579, 0.47368421],\n",
       "       [1.        , 0.        ],\n",
       "       [0.        , 1.        ],\n",
       "       [0.99425287, 0.00574713],\n",
       "       [0.02531646, 0.97468354],\n",
       "       [1.        , 0.        ],\n",
       "       [1.        , 0.        ],\n",
       "       [1.        , 0.        ],\n",
       "       [0.        , 1.        ],\n",
       "       [0.9742268 , 0.0257732 ],\n",
       "       [0.        , 1.        ],\n",
       "       [0.02747253, 0.97252747],\n",
       "       [0.        , 1.        ],\n",
       "       [0.        , 1.        ],\n",
       "       [1.        , 0.        ],\n",
       "       [1.        , 0.        ],\n",
       "       [0.        , 1.        ],\n",
       "       [0.98924731, 0.01075269],\n",
       "       [0.01675978, 0.98324022],\n",
       "       [1.        , 0.        ],\n",
       "       [0.09189189, 0.90810811],\n",
       "       [0.        , 1.        ],\n",
       "       [0.01069519, 0.98930481],\n",
       "       [0.        , 1.        ],\n",
       "       [0.38624339, 0.61375661],\n",
       "       [0.09497207, 0.90502793],\n",
       "       [0.16949153, 0.83050847],\n",
       "       [1.        , 0.        ],\n",
       "       [0.98469388, 0.01530612],\n",
       "       [0.22651934, 0.77348066],\n",
       "       [1.        , 0.        ],\n",
       "       [0.        , 1.        ],\n",
       "       [0.        , 1.        ],\n",
       "       [1.        , 0.        ],\n",
       "       [0.95294118, 0.04705882],\n",
       "       [0.3172043 , 0.6827957 ],\n",
       "       [1.        , 0.        ],\n",
       "       [1.        , 0.        ],\n",
       "       [0.        , 1.        ],\n",
       "       [0.98918919, 0.01081081],\n",
       "       [0.        , 1.        ],\n",
       "       [0.02030457, 0.97969543],\n",
       "       [0.98895028, 0.01104972],\n",
       "       [1.        , 0.        ],\n",
       "       [0.02298851, 0.97701149],\n",
       "       [0.64179104, 0.35820896]])"
      ]
     },
     "execution_count": 14,
     "metadata": {},
     "output_type": "execute_result"
    }
   ],
   "source": [
    "bag_clf.oob_decision_function_"
   ]
  },
  {
   "cell_type": "code",
   "execution_count": 15,
   "metadata": {},
   "outputs": [
    {
     "data": {
      "text/plain": [
       "0.912"
      ]
     },
     "execution_count": 15,
     "metadata": {},
     "output_type": "execute_result"
    }
   ],
   "source": [
    "rnd_clf = RandomForestClassifier(n_estimators=500,\n",
    "                                 max_leaf_nodes=16,\n",
    "                                 n_jobs=-1)\n",
    "rnd_clf.fit(X_train, y_train)\n",
    "\n",
    "y_pred_rf = rnd_clf.predict(X_test)\n",
    "accuracy_score(y_test, y_pred_rf)"
   ]
  },
  {
   "cell_type": "code",
   "execution_count": 16,
   "metadata": {},
   "outputs": [
    {
     "data": {
      "text/plain": [
       "0.912"
      ]
     },
     "execution_count": 16,
     "metadata": {},
     "output_type": "execute_result"
    }
   ],
   "source": [
    "bag_clf = BaggingClassifier(DecisionTreeClassifier(splitter=\"random\",\n",
    "                                                   max_leaf_nodes=16),\n",
    "                            n_estimators=500,\n",
    "                            max_samples=1.0,\n",
    "                            bootstrap=True, \n",
    "                            n_jobs=-1)\n",
    "bag_clf.fit(X_train, y_train)\n",
    "y_pred_brf = bag_clf.predict(X_test)\n",
    "accuracy_score(y_test, y_pred_brf)"
   ]
  },
  {
   "cell_type": "code",
   "execution_count": 18,
   "metadata": {},
   "outputs": [
    {
     "data": {
      "text/plain": [
       "(0.92, 0.92)"
      ]
     },
     "execution_count": 18,
     "metadata": {},
     "output_type": "execute_result"
    }
   ],
   "source": [
    "from sklearn.ensemble import ExtraTreesClassifier\n",
    "\n",
    "ernd_clf = ExtraTreesClassifier(n_estimators=500,\n",
    "                               max_leaf_nodes=16,\n",
    "                               n_jobs=-1)\n",
    "ernd_clf.fit(X_train, y_train)\n",
    "\n",
    "y_pred_rf = ernd_clf.predict(X_test)\n",
    "accuracy_score(y_test, y_pred_rf), accuracy_score(y_test, y_pred_rf)"
   ]
  },
  {
   "cell_type": "code",
   "execution_count": 19,
   "metadata": {},
   "outputs": [
    {
     "name": "stdout",
     "output_type": "stream",
     "text": [
      "sepal length (cm) 0.09916386431388366\n",
      "sepal width (cm) 0.024842874766067804\n",
      "petal length (cm) 0.44403736128861077\n",
      "petal width (cm) 0.43195589963143766\n"
     ]
    }
   ],
   "source": [
    "from sklearn.datasets import load_iris\n",
    "\n",
    "iris = load_iris()\n",
    "rnd_clf = RandomForestClassifier(n_estimators=500,\n",
    "                                 n_jobs=-1)\n",
    "rnd_clf.fit(iris[\"data\"], iris[\"target\"])\n",
    "for name, score in zip(iris[\"feature_names\"], rnd_clf.feature_importances_):\n",
    "    print(name, score)\n"
   ]
  },
  {
   "cell_type": "code",
   "execution_count": 20,
   "metadata": {},
   "outputs": [],
   "source": [
    "from sklearn.datasets import fetch_openml\n",
    "\n",
    "mnist = fetch_openml(\"mnist_784\", version=1)\n",
    "mnist.target = mnist.target.astype(np.uint8)"
   ]
  },
  {
   "cell_type": "code",
   "execution_count": 21,
   "metadata": {},
   "outputs": [
    {
     "data": {
      "text/plain": [
       "RandomForestClassifier(bootstrap=True, ccp_alpha=0.0, class_weight=None,\n",
       "                       criterion='gini', max_depth=None, max_features='auto',\n",
       "                       max_leaf_nodes=None, max_samples=None,\n",
       "                       min_impurity_decrease=0.0, min_impurity_split=None,\n",
       "                       min_samples_leaf=1, min_samples_split=2,\n",
       "                       min_weight_fraction_leaf=0.0, n_estimators=100,\n",
       "                       n_jobs=None, oob_score=False, random_state=42, verbose=0,\n",
       "                       warm_start=False)"
      ]
     },
     "execution_count": 21,
     "metadata": {},
     "output_type": "execute_result"
    }
   ],
   "source": [
    "rnd_clf = RandomForestClassifier(n_estimators=100,\n",
    "                                 random_state=42)\n",
    "rnd_clf.fit(mnist[\"data\"],\n",
    "            mnist[\"target\"])"
   ]
  },
  {
   "cell_type": "code",
   "execution_count": 22,
   "metadata": {},
   "outputs": [],
   "source": [
    "def plot_digit(data):\n",
    "    image = data.reshape(28, 28)\n",
    "    plt.imshow(image, cmap=mpl.cm.hot,\n",
    "               interpolation=\"nearest\")\n",
    "    plt.axis(\"off\")"
   ]
  },
  {
   "cell_type": "code",
   "execution_count": 24,
   "metadata": {},
   "outputs": [
    {
     "name": "stdout",
     "output_type": "stream",
     "text": [
      "Saving figure mnist_feature_importance_plot\n"
     ]
    },
    {
     "data": {
      "image/png": "[encoded data removed]",
      "text/plain": [
       "<Figure size 432x288 with 2 Axes>"
      ]
     },
     "metadata": {
      "needs_background": "light"
     },
     "output_type": "display_data"
    }
   ],
   "source": [
    "plot_digit(rnd_clf.feature_importances_)\n",
    "\n",
    "cbar = plt.colorbar(ticks=[rnd_clf.feature_importances_.min(), rnd_clf.feature_importances_.max()])\n",
    "cbar.ax.set_yticklabels([\"Not important\", \"Very important\"])\n",
    "\n",
    "save_fig(\"mnist_feature_importance_plot\")\n",
    "plt.show()"
   ]
  },
  {
   "cell_type": "code",
   "execution_count": 26,
   "metadata": {},
   "outputs": [
    {
     "data": {
      "text/plain": [
       "0.896"
      ]
     },
     "execution_count": 26,
     "metadata": {},
     "output_type": "execute_result"
    }
   ],
   "source": [
    "from sklearn.ensemble import AdaBoostClassifier\n",
    "\n",
    "ada_clf = AdaBoostClassifier(DecisionTreeClassifier(max_depth=1),\n",
    "                            n_estimators=200,\n",
    "                            algorithm=\"SAMME.R\", learning_rate=0.5)\n",
    "ada_clf.fit(X_train, y_train)\n",
    "y_pred_ada = ada_clf.predict(X_test)\n",
    "accuracy_score(y_test, y_pred_ada)"
   ]
  },
  {
   "cell_type": "code",
   "execution_count": 27,
   "metadata": {},
   "outputs": [
    {
     "data": {
      "text/plain": [
       "DecisionTreeRegressor(ccp_alpha=0.0, criterion='mse', max_depth=2,\n",
       "                      max_features=None, max_leaf_nodes=None,\n",
       "                      min_impurity_decrease=0.0, min_impurity_split=None,\n",
       "                      min_samples_leaf=1, min_samples_split=2,\n",
       "                      min_weight_fraction_leaf=0.0, presort='deprecated',\n",
       "                      random_state=None, splitter='best')"
      ]
     },
     "execution_count": 27,
     "metadata": {},
     "output_type": "execute_result"
    }
   ],
   "source": [
    "from sklearn.tree import DecisionTreeRegressor\n",
    "\n",
    "np.random.seed(42)\n",
    "X = np.random.rand(100, 1) - 0.5\n",
    "y = 3*X[:, 0]**2 + 0.05 * np.random.randn(100)\n",
    "\n",
    "tree_reg1 = DecisionTreeRegressor(max_depth=2)\n",
    "tree_reg1.fit(X, y)"
   ]
  },
  {
   "cell_type": "code",
   "execution_count": 28,
   "metadata": {},
   "outputs": [
    {
     "data": {
      "text/plain": [
       "DecisionTreeRegressor(ccp_alpha=0.0, criterion='mse', max_depth=2,\n",
       "                      max_features=None, max_leaf_nodes=None,\n",
       "                      min_impurity_decrease=0.0, min_impurity_split=None,\n",
       "                      min_samples_leaf=1, min_samples_split=2,\n",
       "                      min_weight_fraction_leaf=0.0, presort='deprecated',\n",
       "                      random_state=None, splitter='best')"
      ]
     },
     "execution_count": 28,
     "metadata": {},
     "output_type": "execute_result"
    }
   ],
   "source": [
    "y2 = y - tree_reg1.predict(X)\n",
    "tree_reg2 = DecisionTreeRegressor(max_depth=2)\n",
    "tree_reg2.fit(X, y2)\n",
    "\n",
    "y3 = y2 - tree_reg2.predict(X)\n",
    "tree_reg3 = DecisionTreeRegressor(max_depth=2)\n",
    "tree_reg3.fit(X, y3)"
   ]
  },
  {
   "cell_type": "code",
   "execution_count": 29,
   "metadata": {},
   "outputs": [],
   "source": [
    "X_new = np.array([[0.8]])\n",
    "y_pred = sum(tree.predict(X_new) for tree in (tree_reg1, tree_reg2, tree_reg3))"
   ]
  },
  {
   "cell_type": "code",
   "execution_count": 30,
   "metadata": {},
   "outputs": [
    {
     "data": {
      "text/plain": [
       "array([0.75026781])"
      ]
     },
     "execution_count": 30,
     "metadata": {},
     "output_type": "execute_result"
    }
   ],
   "source": [
    "y_pred"
   ]
  },
  {
   "cell_type": "code",
   "execution_count": 32,
   "metadata": {},
   "outputs": [
    {
     "data": {
      "text/plain": [
       "GradientBoostingRegressor(alpha=0.9, ccp_alpha=0.0, criterion='friedman_mse',\n",
       "                          init=None, learning_rate=1.0, loss='ls', max_depth=2,\n",
       "                          max_features=None, max_leaf_nodes=None,\n",
       "                          min_impurity_decrease=0.0, min_impurity_split=None,\n",
       "                          min_samples_leaf=1, min_samples_split=2,\n",
       "                          min_weight_fraction_leaf=0.0, n_estimators=3,\n",
       "                          n_iter_no_change=None, presort='deprecated',\n",
       "                          random_state=None, subsample=1.0, tol=0.0001,\n",
       "                          validation_fraction=0.1, verbose=0, warm_start=False)"
      ]
     },
     "execution_count": 32,
     "metadata": {},
     "output_type": "execute_result"
    }
   ],
   "source": [
    "from sklearn.ensemble import GradientBoostingRegressor\n",
    "\n",
    "gbrt = GradientBoostingRegressor(max_depth=2,\n",
    "                                 n_estimators=3, learning_rate=1.0)\n",
    "gbrt.fit(X, y)"
   ]
  },
  {
   "cell_type": "code",
   "execution_count": 36,
   "metadata": {},
   "outputs": [
    {
     "data": {
      "text/plain": [
       "(array([ 0.0515729 ,  0.59447979,  0.16605161, -0.07017796,  0.34398593,\n",
       "         0.37287494,  0.65976498,  0.3763414 , -0.00975194,  0.10479474]),\n",
       " array([-0.07199323,  0.06591133,  0.04248548, -0.19374408,  0.22041981,\n",
       "         0.24930881, -0.00114735, -0.15222706, -0.13331807, -0.01877138]),\n",
       " array([ 0.01840471,  0.02599835,  0.00257251, -0.10334615,  0.06058178,\n",
       "         0.08947079, -0.00114735, -0.19214004, -0.04292013, -0.05868436]))"
      ]
     },
     "execution_count": 36,
     "metadata": {},
     "output_type": "execute_result"
    }
   ],
   "source": [
    "y[:10], y2[:10], y3[:10]"
   ]
  },
  {
   "cell_type": "code",
   "execution_count": 37,
   "metadata": {},
   "outputs": [
    {
     "data": {
      "text/plain": [
       "GradientBoostingRegressor(alpha=0.9, ccp_alpha=0.0, criterion='friedman_mse',\n",
       "                          init=None, learning_rate=0.1, loss='ls', max_depth=2,\n",
       "                          max_features=None, max_leaf_nodes=None,\n",
       "                          min_impurity_decrease=0.0, min_impurity_split=None,\n",
       "                          min_samples_leaf=1, min_samples_split=2,\n",
       "                          min_weight_fraction_leaf=0.0, n_estimators=85,\n",
       "                          n_iter_no_change=None, presort='deprecated',\n",
       "                          random_state=None, subsample=1.0, tol=0.0001,\n",
       "                          validation_fraction=0.1, verbose=0, warm_start=False)"
      ]
     },
     "execution_count": 37,
     "metadata": {},
     "output_type": "execute_result"
    }
   ],
   "source": [
    "import numpy as np\n",
    "from sklearn.model_selection import train_test_split\n",
    "from sklearn.metrics import mean_squared_error\n",
    "\n",
    "X_train, X_val, y_train, y_val = train_test_split(X, y)\n",
    "\n",
    "gbrt = GradientBoostingRegressor(max_depth=2,\n",
    "                                 n_estimators=120)\n",
    "gbrt.fit(X_train, y_train)\n",
    "\n",
    "errors = [mean_squared_error(y_val, y_pred)\n",
    "          for y_pred in gbrt.staged_predict(X_val)]\n",
    "bst_n_estimators = np.argmin(errors) + 1\n",
    "\n",
    "gbrt_best = GradientBoostingRegressor(max_depth=2, n_estimators=bst_n_estimators)\n",
    "gbrt_best.fit(X_train, y_train)"
   ]
  },
  {
   "cell_type": "code",
   "execution_count": 38,
   "metadata": {},
   "outputs": [],
   "source": [
    "gbrt = GradientBoostingRegressor(max_depth=2,\n",
    "                                 warm_start=True)\n",
    "\n",
    "min_val_error = float(\"inf\")\n",
    "error_going_up = 0\n",
    "for n_estimators in range(1, 120):\n",
    "    gbrt.n_estimators = n_estimators\n",
    "    gbrt.fit(X_train, y_train)\n",
    "    y_pred = gbrt.predict(X_val)\n",
    "    val_error = mean_squared_error(y_val, y_pred)\n",
    "    if val_error < min_val_error:\n",
    "        min_val_error = val_error\n",
    "        error_going_up = 0\n",
    "    else:\n",
    "        error_going_up += 1\n",
    "        if error_going_up == 5:\n",
    "            break"
   ]
  },
  {
   "cell_type": "code",
   "execution_count": 43,
   "metadata": {},
   "outputs": [
    {
     "name": "stdout",
     "output_type": "stream",
     "text": [
      "[14:50:41] WARNING: /workspace/src/objective/regression_obj.cu:152: reg:linear is now deprecated in favor of reg:squarederror.\n",
      "[14:50:41] WARNING: /workspace/src/objective/regression_obj.cu:152: reg:linear is now deprecated in favor of reg:squarederror.\n",
      "[0]\tvalidation_0-rmse:0.275313\n",
      "Will train until validation_0-rmse hasn't improved in 2 rounds.\n",
      "[1]\tvalidation_0-rmse:0.247499\n",
      "[2]\tvalidation_0-rmse:0.222947\n",
      "[3]\tvalidation_0-rmse:0.201049\n",
      "[4]\tvalidation_0-rmse:0.181641\n",
      "[5]\tvalidation_0-rmse:0.166735\n",
      "[6]\tvalidation_0-rmse:0.153621\n",
      "[7]\tvalidation_0-rmse:0.141686\n",
      "[8]\tvalidation_0-rmse:0.131314\n",
      "[9]\tvalidation_0-rmse:0.122047\n",
      "[10]\tvalidation_0-rmse:0.112234\n",
      "[11]\tvalidation_0-rmse:0.10366\n",
      "[12]\tvalidation_0-rmse:0.097232\n",
      "[13]\tvalidation_0-rmse:0.092018\n",
      "[14]\tvalidation_0-rmse:0.087123\n",
      "[15]\tvalidation_0-rmse:0.083105\n",
      "[16]\tvalidation_0-rmse:0.079681\n",
      "[17]\tvalidation_0-rmse:0.076621\n",
      "[18]\tvalidation_0-rmse:0.074141\n",
      "[19]\tvalidation_0-rmse:0.071896\n",
      "[20]\tvalidation_0-rmse:0.070115\n",
      "[21]\tvalidation_0-rmse:0.068281\n",
      "[22]\tvalidation_0-rmse:0.066894\n",
      "[23]\tvalidation_0-rmse:0.065783\n",
      "[24]\tvalidation_0-rmse:0.064704\n",
      "[25]\tvalidation_0-rmse:0.063744\n",
      "[26]\tvalidation_0-rmse:0.062625\n",
      "[27]\tvalidation_0-rmse:0.061978\n",
      "[28]\tvalidation_0-rmse:0.060858\n",
      "[29]\tvalidation_0-rmse:0.059868\n",
      "[30]\tvalidation_0-rmse:0.059202\n",
      "[31]\tvalidation_0-rmse:0.058817\n",
      "[32]\tvalidation_0-rmse:0.058233\n",
      "[33]\tvalidation_0-rmse:0.057706\n",
      "[34]\tvalidation_0-rmse:0.057434\n",
      "[35]\tvalidation_0-rmse:0.056745\n",
      "[36]\tvalidation_0-rmse:0.056413\n",
      "[37]\tvalidation_0-rmse:0.055872\n",
      "[38]\tvalidation_0-rmse:0.055391\n",
      "[39]\tvalidation_0-rmse:0.05512\n",
      "[40]\tvalidation_0-rmse:0.054845\n",
      "[41]\tvalidation_0-rmse:0.054576\n",
      "[42]\tvalidation_0-rmse:0.054318\n",
      "[43]\tvalidation_0-rmse:0.054347\n",
      "[44]\tvalidation_0-rmse:0.054104\n",
      "[45]\tvalidation_0-rmse:0.054106\n",
      "[46]\tvalidation_0-rmse:0.054133\n",
      "Stopping. Best iteration:\n",
      "[44]\tvalidation_0-rmse:0.054104\n",
      "\n"
     ]
    },
    {
     "data": {
      "text/plain": [
       "(array([0.44248784, 0.3292871 , 0.01783913, 0.14133617, 0.20172742,\n",
       "        0.67551744, 0.06523386, 0.06523386, 0.01783913, 0.20172742,\n",
       "        0.642694  , 0.28578684, 0.37451947, 0.5390061 , 0.20172742,\n",
       "        0.20172742, 0.5705067 , 0.33974206, 0.67551744, 0.12344348,\n",
       "        0.12344348, 0.14378011, 0.44067222, 0.67551744, 0.14133617],\n",
       "       dtype=float32),\n",
       " array([ 0.4485107 ,  0.32851595, -0.01711792,  0.14029524,  0.20817724,\n",
       "         0.69764185,  0.04632044,  0.08585185,  0.02696332,  0.1933389 ,\n",
       "         0.6469263 ,  0.28592467,  0.3753476 ,  0.53983426,  0.20817724,\n",
       "         0.1933389 ,  0.58218944,  0.34220263,  0.69764185,  0.14632744,\n",
       "         0.14632744,  0.1407845 ,  0.44150037,  0.69764185,  0.14029524],\n",
       "       dtype=float32))"
      ]
     },
     "execution_count": 43,
     "metadata": {},
     "output_type": "execute_result"
    }
   ],
   "source": [
    "import xgboost\n",
    "\n",
    "xgb_reg = xgboost.XGBRegressor()\n",
    "xgb_reg.fit(X_train, y_train)\n",
    "y_pred1 = xgb_reg.predict(X_val)\n",
    "\n",
    "xgb_reg.fit(X_train, y_train,\n",
    "            eval_set=[(X_val, y_val)], early_stopping_rounds=2)\n",
    "y_pred2 = xgb_reg.predict(X_val)\n",
    "\n",
    "y_pred2, y_pred1"
   ]
  },
  {
   "cell_type": "code",
   "execution_count": null,
   "metadata": {},
   "outputs": [],
   "source": []
  }
 ],
 "metadata": {
  "kernelspec": {
   "display_name": "Python 3",
   "language": "python",
   "name": "python3"
  },
  "language_info": {
   "codemirror_mode": {
    "name": "ipython",
    "version": 3
   },
   "file_extension": ".py",
   "mimetype": "text/x-python",
   "name": "python",
   "nbconvert_exporter": "python",
   "pygments_lexer": "ipython3",
   "version": "3.7.5"
  }
 },
 "nbformat": 4,
 "nbformat_minor": 2
}
