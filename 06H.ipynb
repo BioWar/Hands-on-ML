{
 "cells": [
  {
   "cell_type": "code",
   "execution_count": 1,
   "metadata": {},
   "outputs": [],
   "source": [
    "#Python ≥3.5 is required\n",
    "import sys\n",
    "assert sys.version_info >= (3, 5)\n",
    "\n",
    "# Scikit-Learn ≥0.20 is required\n",
    "import sklearn\n",
    "assert sklearn.__version__ >= \"0.20\"\n",
    "\n",
    "# Common imports\n",
    "import numpy as np\n",
    "import os\n",
    "\n",
    "# to make this notebook's output stable across runs\n",
    "np.random.seed(42)\n",
    "\n",
    "# To plot pretty figures\n",
    "%matplotlib inline\n",
    "import matplotlib as mpl\n",
    "import matplotlib.pyplot as plt\n",
    "mpl.rc('axes', labelsize=14)\n",
    "mpl.rc('xtick', labelsize=12)\n",
    "mpl.rc('ytick', labelsize=12)\n",
    "\n",
    "# Where to save the figures\n",
    "PROJECT_ROOT_DIR = \".\"\n",
    "CHAPTER_ID = \"decision_trees\"\n",
    "IMAGES_PATH = os.path.join(PROJECT_ROOT_DIR, \"images\", CHAPTER_ID)\n",
    "os.makedirs(IMAGES_PATH, exist_ok=True)\n",
    "\n",
    "def save_fig(fig_id, tight_layout=True, fig_extension=\"png\", resolution=300):\n",
    "    path = os.path.join(IMAGES_PATH, fig_id + \".\" + fig_extension)\n",
    "    print(\"Saving figure\", fig_id)\n",
    "    if tight_layout:\n",
    "        plt.tight_layout()\n",
    "    plt.savefig(path, format=fig_extension, dpi=resolution)"
   ]
  },
  {
   "cell_type": "code",
   "execution_count": 15,
   "metadata": {},
   "outputs": [],
   "source": [
    "from sklearn.datasets import make_moons\n",
    "from sklearn.tree import DecisionTreeClassifier\n",
    "from sklearn.model_selection import train_test_split\n",
    "from sklearn.model_selection import GridSearchCV\n",
    "\n",
    "dataset = make_moons(n_samples=10000,\n",
    "                     noise=0.4)\n",
    "\n",
    "X_train, X_test, y_train, y_test = train_test_split(dataset[0], dataset[1], test_size=0.2, random_state=42)"
   ]
  },
  {
   "cell_type": "code",
   "execution_count": 16,
   "metadata": {},
   "outputs": [
    {
     "name": "stdout",
     "output_type": "stream",
     "text": [
      "(8000, 2)\n",
      "(8000,)\n",
      "(2000, 2)\n",
      "(2000,)\n"
     ]
    }
   ],
   "source": [
    "for i in (X_train, y_train, X_test, y_test):\n",
    "    print(i.shape)"
   ]
  },
  {
   "cell_type": "code",
   "execution_count": 18,
   "metadata": {},
   "outputs": [
    {
     "data": {
      "image/png": "[encoded data removed]",
      "text/plain": [
       "<Figure size 432x288 with 1 Axes>"
      ]
     },
     "metadata": {
      "needs_background": "light"
     },
     "output_type": "display_data"
    }
   ],
   "source": [
    "def plot_dataset(X, y, axes):\n",
    "    plt.plot(X[:, 0][y==0], X[:, 1][y==0], \"bs\")\n",
    "    plt.plot(X[:, 0][y==1], X[:, 1][y==1], \"g^\")\n",
    "    plt.axis(axes)\n",
    "    plt.grid(True, which='both')\n",
    "    plt.xlabel(r\"$x_1$\", fontsize=20)\n",
    "    plt.ylabel(r\"$x_2$\", fontsize=20, rotation=0)\n",
    "\n",
    "plot_dataset(X_train, y_train, [-2.5, 3.5, -2, 2.5])\n",
    "plt.show()"
   ]
  },
  {
   "cell_type": "code",
   "execution_count": 22,
   "metadata": {},
   "outputs": [
    {
     "name": "stdout",
     "output_type": "stream",
     "text": [
      "Fitting 5 folds for each of 32 candidates, totalling 160 fits\n",
      "[CV] criterion=gini, max_depth=1, min_samples_leaf=1, min_samples_split=1 \n",
      "[CV]  criterion=gini, max_depth=1, min_samples_leaf=1, min_samples_split=1, total=   0.0s\n",
      "[CV] criterion=gini, max_depth=1, min_samples_leaf=1, min_samples_split=1 \n",
      "[CV]  criterion=gini, max_depth=1, min_samples_leaf=1, min_samples_split=1, total=   0.0s\n",
      "[CV] criterion=gini, max_depth=1, min_samples_leaf=1, min_samples_split=1 \n",
      "[CV]  criterion=gini, max_depth=1, min_samples_leaf=1, min_samples_split=1, total=   0.0s\n",
      "[CV] criterion=gini, max_depth=1, min_samples_leaf=1, min_samples_split=1 \n",
      "[CV]  criterion=gini, max_depth=1, min_samples_leaf=1, min_samples_split=1, total=   0.0s\n",
      "[CV] criterion=gini, max_depth=1, min_samples_leaf=1, min_samples_split=1 \n",
      "[CV]  criterion=gini, max_depth=1, min_samples_leaf=1, min_samples_split=1, total=   0.0s\n",
      "[CV] criterion=gini, max_depth=1, min_samples_leaf=1, min_samples_split=2 \n",
      "[CV]  criterion=gini, max_depth=1, min_samples_leaf=1, min_samples_split=2, total=   0.0s\n",
      "[CV] criterion=gini, max_depth=1, min_samples_leaf=1, min_samples_split=2 \n",
      "[CV]  criterion=gini, max_depth=1, min_samples_leaf=1, min_samples_split=2, total=   0.0s\n",
      "[CV] criterion=gini, max_depth=1, min_samples_leaf=1, min_samples_split=2 \n",
      "[CV]  criterion=gini, max_depth=1, min_samples_leaf=1, min_samples_split=2, total=   0.0s\n",
      "[CV] criterion=gini, max_depth=1, min_samples_leaf=1, min_samples_split=2 \n",
      "[CV]  criterion=gini, max_depth=1, min_samples_leaf=1, min_samples_split=2, total=   0.0s\n",
      "[CV] criterion=gini, max_depth=1, min_samples_leaf=1, min_samples_split=2 \n",
      "[CV]  criterion=gini, max_depth=1, min_samples_leaf=1, min_samples_split=2, total=   0.0s\n",
      "[CV] criterion=gini, max_depth=1, min_samples_leaf=1, min_samples_split=3 \n",
      "[CV]  criterion=gini, max_depth=1, min_samples_leaf=1, min_samples_split=3, total=   0.0s\n",
      "[CV] criterion=gini, max_depth=1, min_samples_leaf=1, min_samples_split=3 \n",
      "[CV]  criterion=gini, max_depth=1, min_samples_leaf=1, min_samples_split=3, total=   0.0s\n",
      "[CV] criterion=gini, max_depth=1, min_samples_leaf=1, min_samples_split=3 \n",
      "[CV]  criterion=gini, max_depth=1, min_samples_leaf=1, min_samples_split=3, total=   0.0s\n",
      "[CV] criterion=gini, max_depth=1, min_samples_leaf=1, min_samples_split=3 \n",
      "[CV]  criterion=gini, max_depth=1, min_samples_leaf=1, min_samples_split=3, total=   0.0s\n",
      "[CV] criterion=gini, max_depth=1, min_samples_leaf=1, min_samples_split=3 \n",
      "[CV]  criterion=gini, max_depth=1, min_samples_leaf=1, min_samples_split=3, total=   0.0s\n",
      "[CV] criterion=gini, max_depth=1, min_samples_leaf=1, min_samples_split=4 \n",
      "[CV]  criterion=gini, max_depth=1, min_samples_leaf=1, min_samples_split=4, total=   0.0s\n",
      "[CV] criterion=gini, max_depth=1, min_samples_leaf=1, min_samples_split=4 \n",
      "[CV]  criterion=gini, max_depth=1, min_samples_leaf=1, min_samples_split=4, total=   0.0s\n",
      "[CV] criterion=gini, max_depth=1, min_samples_leaf=1, min_samples_split=4 \n",
      "[CV]  criterion=gini, max_depth=1, min_samples_leaf=1, min_samples_split=4, total=   0.0s\n",
      "[CV] criterion=gini, max_depth=1, min_samples_leaf=1, min_samples_split=4 \n",
      "[CV]  criterion=gini, max_depth=1, min_samples_leaf=1, min_samples_split=4, total=   0.0s\n",
      "[CV] criterion=gini, max_depth=1, min_samples_leaf=1, min_samples_split=4 \n",
      "[CV]  criterion=gini, max_depth=1, min_samples_leaf=1, min_samples_split=4, total=   0.0s\n",
      "[CV] criterion=gini, max_depth=1, min_samples_leaf=2, min_samples_split=1 \n",
      "[CV]  criterion=gini, max_depth=1, min_samples_leaf=2, min_samples_split=1, total=   0.0s\n",
      "[CV] criterion=gini, max_depth=1, min_samples_leaf=2, min_samples_split=1 \n",
      "[CV]  criterion=gini, max_depth=1, min_samples_leaf=2, min_samples_split=1, total=   0.0s\n",
      "[CV] criterion=gini, max_depth=1, min_samples_leaf=2, min_samples_split=1 \n",
      "[CV]  criterion=gini, max_depth=1, min_samples_leaf=2, min_samples_split=1, total=   0.0s\n",
      "[CV] criterion=gini, max_depth=1, min_samples_leaf=2, min_samples_split=1 \n",
      "[CV]  criterion=gini, max_depth=1, min_samples_leaf=2, min_samples_split=1, total=   0.0s\n",
      "[CV] criterion=gini, max_depth=1, min_samples_leaf=2, min_samples_split=1 \n",
      "[CV]  criterion=gini, max_depth=1, min_samples_leaf=2, min_samples_split=1, total=   0.0s\n",
      "[CV] criterion=gini, max_depth=1, min_samples_leaf=2, min_samples_split=2 \n",
      "[CV]  criterion=gini, max_depth=1, min_samples_leaf=2, min_samples_split=2, total=   0.0s\n",
      "[CV] criterion=gini, max_depth=1, min_samples_leaf=2, min_samples_split=2 \n",
      "[CV]  criterion=gini, max_depth=1, min_samples_leaf=2, min_samples_split=2, total=   0.0s\n",
      "[CV] criterion=gini, max_depth=1, min_samples_leaf=2, min_samples_split=2 \n",
      "[CV]  criterion=gini, max_depth=1, min_samples_leaf=2, min_samples_split=2, total=   0.0s\n",
      "[CV] criterion=gini, max_depth=1, min_samples_leaf=2, min_samples_split=2 \n",
      "[CV]  criterion=gini, max_depth=1, min_samples_leaf=2, min_samples_split=2, total=   0.0s\n",
      "[CV] criterion=gini, max_depth=1, min_samples_leaf=2, min_samples_split=2 \n",
      "[CV]  criterion=gini, max_depth=1, min_samples_leaf=2, min_samples_split=2, total=   0.0s\n",
      "[CV] criterion=gini, max_depth=1, min_samples_leaf=2, min_samples_split=3 \n",
      "[CV]  criterion=gini, max_depth=1, min_samples_leaf=2, min_samples_split=3, total=   0.0s\n",
      "[CV] criterion=gini, max_depth=1, min_samples_leaf=2, min_samples_split=3 \n",
      "[CV]  criterion=gini, max_depth=1, min_samples_leaf=2, min_samples_split=3, total=   0.0s\n",
      "[CV] criterion=gini, max_depth=1, min_samples_leaf=2, min_samples_split=3 \n"
     ]
    },
    {
     "name": "stderr",
     "output_type": "stream",
     "text": [
      "[Parallel(n_jobs=1)]: Using backend SequentialBackend with 1 concurrent workers.\n",
      "/home/biowar1337/anaconda3/lib/python3.7/site-packages/sklearn/model_selection/_validation.py:536: FitFailedWarning: Estimator fit failed. The score on this train-test partition for these parameters will be set to nan. Details: \n",
      "ValueError: min_samples_split must be an integer greater than 1 or a float in (0.0, 1.0]; got the integer 1\n",
      "\n",
      "  FitFailedWarning)\n",
      "[Parallel(n_jobs=1)]: Done   1 out of   1 | elapsed:    0.0s remaining:    0.0s\n",
      "/home/biowar1337/anaconda3/lib/python3.7/site-packages/sklearn/model_selection/_validation.py:536: FitFailedWarning: Estimator fit failed. The score on this train-test partition for these parameters will be set to nan. Details: \n",
      "ValueError: min_samples_split must be an integer greater than 1 or a float in (0.0, 1.0]; got the integer 1\n",
      "\n",
      "  FitFailedWarning)\n",
      "/home/biowar1337/anaconda3/lib/python3.7/site-packages/sklearn/model_selection/_validation.py:536: FitFailedWarning: Estimator fit failed. The score on this train-test partition for these parameters will be set to nan. Details: \n",
      "ValueError: min_samples_split must be an integer greater than 1 or a float in (0.0, 1.0]; got the integer 1\n",
      "\n",
      "  FitFailedWarning)\n",
      "/home/biowar1337/anaconda3/lib/python3.7/site-packages/sklearn/model_selection/_validation.py:536: FitFailedWarning: Estimator fit failed. The score on this train-test partition for these parameters will be set to nan. Details: \n",
      "ValueError: min_samples_split must be an integer greater than 1 or a float in (0.0, 1.0]; got the integer 1\n",
      "\n",
      "  FitFailedWarning)\n",
      "/home/biowar1337/anaconda3/lib/python3.7/site-packages/sklearn/model_selection/_validation.py:536: FitFailedWarning: Estimator fit failed. The score on this train-test partition for these parameters will be set to nan. Details: \n",
      "ValueError: min_samples_split must be an integer greater than 1 or a float in (0.0, 1.0]; got the integer 1\n",
      "\n",
      "  FitFailedWarning)\n",
      "/home/biowar1337/anaconda3/lib/python3.7/site-packages/sklearn/model_selection/_validation.py:536: FitFailedWarning: Estimator fit failed. The score on this train-test partition for these parameters will be set to nan. Details: \n",
      "ValueError: min_samples_split must be an integer greater than 1 or a float in (0.0, 1.0]; got the integer 1\n",
      "\n",
      "  FitFailedWarning)\n",
      "/home/biowar1337/anaconda3/lib/python3.7/site-packages/sklearn/model_selection/_validation.py:536: FitFailedWarning: Estimator fit failed. The score on this train-test partition for these parameters will be set to nan. Details: \n",
      "ValueError: min_samples_split must be an integer greater than 1 or a float in (0.0, 1.0]; got the integer 1\n",
      "\n",
      "  FitFailedWarning)\n",
      "/home/biowar1337/anaconda3/lib/python3.7/site-packages/sklearn/model_selection/_validation.py:536: FitFailedWarning: Estimator fit failed. The score on this train-test partition for these parameters will be set to nan. Details: \n",
      "ValueError: min_samples_split must be an integer greater than 1 or a float in (0.0, 1.0]; got the integer 1\n",
      "\n",
      "  FitFailedWarning)\n",
      "/home/biowar1337/anaconda3/lib/python3.7/site-packages/sklearn/model_selection/_validation.py:536: FitFailedWarning: Estimator fit failed. The score on this train-test partition for these parameters will be set to nan. Details: \n",
      "ValueError: min_samples_split must be an integer greater than 1 or a float in (0.0, 1.0]; got the integer 1\n",
      "\n",
      "  FitFailedWarning)\n",
      "/home/biowar1337/anaconda3/lib/python3.7/site-packages/sklearn/model_selection/_validation.py:536: FitFailedWarning: Estimator fit failed. The score on this train-test partition for these parameters will be set to nan. Details: \n",
      "ValueError: min_samples_split must be an integer greater than 1 or a float in (0.0, 1.0]; got the integer 1\n",
      "\n",
      "  FitFailedWarning)\n"
     ]
    },
    {
     "name": "stdout",
     "output_type": "stream",
     "text": [
      "[CV]  criterion=gini, max_depth=1, min_samples_leaf=2, min_samples_split=3, total=   0.0s\n",
      "[CV] criterion=gini, max_depth=1, min_samples_leaf=2, min_samples_split=3 \n",
      "[CV]  criterion=gini, max_depth=1, min_samples_leaf=2, min_samples_split=3, total=   0.0s\n",
      "[CV] criterion=gini, max_depth=1, min_samples_leaf=2, min_samples_split=3 \n",
      "[CV]  criterion=gini, max_depth=1, min_samples_leaf=2, min_samples_split=3, total=   0.0s\n",
      "[CV] criterion=gini, max_depth=1, min_samples_leaf=2, min_samples_split=4 \n",
      "[CV]  criterion=gini, max_depth=1, min_samples_leaf=2, min_samples_split=4, total=   0.0s\n",
      "[CV] criterion=gini, max_depth=1, min_samples_leaf=2, min_samples_split=4 \n",
      "[CV]  criterion=gini, max_depth=1, min_samples_leaf=2, min_samples_split=4, total=   0.0s\n",
      "[CV] criterion=gini, max_depth=1, min_samples_leaf=2, min_samples_split=4 \n",
      "[CV]  criterion=gini, max_depth=1, min_samples_leaf=2, min_samples_split=4, total=   0.0s\n",
      "[CV] criterion=gini, max_depth=1, min_samples_leaf=2, min_samples_split=4 \n",
      "[CV]  criterion=gini, max_depth=1, min_samples_leaf=2, min_samples_split=4, total=   0.0s\n",
      "[CV] criterion=gini, max_depth=1, min_samples_leaf=2, min_samples_split=4 \n",
      "[CV]  criterion=gini, max_depth=1, min_samples_leaf=2, min_samples_split=4, total=   0.0s\n",
      "[CV] criterion=gini, max_depth=1, min_samples_leaf=3, min_samples_split=1 \n",
      "[CV]  criterion=gini, max_depth=1, min_samples_leaf=3, min_samples_split=1, total=   0.0s\n",
      "[CV] criterion=gini, max_depth=1, min_samples_leaf=3, min_samples_split=1 \n",
      "[CV]  criterion=gini, max_depth=1, min_samples_leaf=3, min_samples_split=1, total=   0.0s\n",
      "[CV] criterion=gini, max_depth=1, min_samples_leaf=3, min_samples_split=1 \n",
      "[CV]  criterion=gini, max_depth=1, min_samples_leaf=3, min_samples_split=1, total=   0.0s\n",
      "[CV] criterion=gini, max_depth=1, min_samples_leaf=3, min_samples_split=1 \n",
      "[CV]  criterion=gini, max_depth=1, min_samples_leaf=3, min_samples_split=1, total=   0.0s\n",
      "[CV] criterion=gini, max_depth=1, min_samples_leaf=3, min_samples_split=1 \n",
      "[CV]  criterion=gini, max_depth=1, min_samples_leaf=3, min_samples_split=1, total=   0.0s\n",
      "[CV] criterion=gini, max_depth=1, min_samples_leaf=3, min_samples_split=2 \n",
      "[CV]  criterion=gini, max_depth=1, min_samples_leaf=3, min_samples_split=2, total=   0.0s\n",
      "[CV] criterion=gini, max_depth=1, min_samples_leaf=3, min_samples_split=2 \n",
      "[CV]  criterion=gini, max_depth=1, min_samples_leaf=3, min_samples_split=2, total=   0.0s\n",
      "[CV] criterion=gini, max_depth=1, min_samples_leaf=3, min_samples_split=2 \n",
      "[CV]  criterion=gini, max_depth=1, min_samples_leaf=3, min_samples_split=2, total=   0.0s\n",
      "[CV] criterion=gini, max_depth=1, min_samples_leaf=3, min_samples_split=2 \n",
      "[CV]  criterion=gini, max_depth=1, min_samples_leaf=3, min_samples_split=2, total=   0.0s\n",
      "[CV] criterion=gini, max_depth=1, min_samples_leaf=3, min_samples_split=2 \n",
      "[CV]  criterion=gini, max_depth=1, min_samples_leaf=3, min_samples_split=2, total=   0.0s\n",
      "[CV] criterion=gini, max_depth=1, min_samples_leaf=3, min_samples_split=3 \n",
      "[CV]  criterion=gini, max_depth=1, min_samples_leaf=3, min_samples_split=3, total=   0.0s\n",
      "[CV] criterion=gini, max_depth=1, min_samples_leaf=3, min_samples_split=3 \n",
      "[CV]  criterion=gini, max_depth=1, min_samples_leaf=3, min_samples_split=3, total=   0.0s\n",
      "[CV] criterion=gini, max_depth=1, min_samples_leaf=3, min_samples_split=3 \n",
      "[CV]  criterion=gini, max_depth=1, min_samples_leaf=3, min_samples_split=3, total=   0.0s\n",
      "[CV] criterion=gini, max_depth=1, min_samples_leaf=3, min_samples_split=3 \n",
      "[CV]  criterion=gini, max_depth=1, min_samples_leaf=3, min_samples_split=3, total=   0.0s\n",
      "[CV] criterion=gini, max_depth=1, min_samples_leaf=3, min_samples_split=3 \n",
      "[CV]  criterion=gini, max_depth=1, min_samples_leaf=3, min_samples_split=3, total=   0.0s\n",
      "[CV] criterion=gini, max_depth=1, min_samples_leaf=3, min_samples_split=4 \n",
      "[CV]  criterion=gini, max_depth=1, min_samples_leaf=3, min_samples_split=4, total=   0.0s\n",
      "[CV] criterion=gini, max_depth=1, min_samples_leaf=3, min_samples_split=4 \n",
      "[CV]  criterion=gini, max_depth=1, min_samples_leaf=3, min_samples_split=4, total=   0.0s\n",
      "[CV] criterion=gini, max_depth=1, min_samples_leaf=3, min_samples_split=4 \n",
      "[CV]  criterion=gini, max_depth=1, min_samples_leaf=3, min_samples_split=4, total=   0.0s\n",
      "[CV] criterion=gini, max_depth=1, min_samples_leaf=3, min_samples_split=4 \n",
      "[CV]  criterion=gini, max_depth=1, min_samples_leaf=3, min_samples_split=4, total=   0.0s\n",
      "[CV] criterion=gini, max_depth=1, min_samples_leaf=3, min_samples_split=4 \n",
      "[CV]  criterion=gini, max_depth=1, min_samples_leaf=3, min_samples_split=4, total=   0.0s\n",
      "[CV] criterion=gini, max_depth=1, min_samples_leaf=4, min_samples_split=1 \n",
      "[CV]  criterion=gini, max_depth=1, min_samples_leaf=4, min_samples_split=1, total=   0.0s\n",
      "[CV] criterion=gini, max_depth=1, min_samples_leaf=4, min_samples_split=1 \n",
      "[CV]  criterion=gini, max_depth=1, min_samples_leaf=4, min_samples_split=1, total=   0.0s\n",
      "[CV] criterion=gini, max_depth=1, min_samples_leaf=4, min_samples_split=1 \n",
      "[CV]  criterion=gini, max_depth=1, min_samples_leaf=4, min_samples_split=1, total=   0.0s\n",
      "[CV] criterion=gini, max_depth=1, min_samples_leaf=4, min_samples_split=1 \n",
      "[CV]  criterion=gini, max_depth=1, min_samples_leaf=4, min_samples_split=1, total=   0.0s\n",
      "[CV] criterion=gini, max_depth=1, min_samples_leaf=4, min_samples_split=1 \n",
      "[CV]  criterion=gini, max_depth=1, min_samples_leaf=4, min_samples_split=1, total=   0.0s\n",
      "[CV] criterion=gini, max_depth=1, min_samples_leaf=4, min_samples_split=2 \n",
      "[CV]  criterion=gini, max_depth=1, min_samples_leaf=4, min_samples_split=2, total=   0.0s\n",
      "[CV] criterion=gini, max_depth=1, min_samples_leaf=4, min_samples_split=2 \n",
      "[CV]  criterion=gini, max_depth=1, min_samples_leaf=4, min_samples_split=2, total=   0.0s\n",
      "[CV] criterion=gini, max_depth=1, min_samples_leaf=4, min_samples_split=2 \n",
      "[CV]  criterion=gini, max_depth=1, min_samples_leaf=4, min_samples_split=2, total=   0.0s\n",
      "[CV] criterion=gini, max_depth=1, min_samples_leaf=4, min_samples_split=2 \n",
      "[CV]  criterion=gini, max_depth=1, min_samples_leaf=4, min_samples_split=2, total=   0.0s\n",
      "[CV] criterion=gini, max_depth=1, min_samples_leaf=4, min_samples_split=2 \n"
     ]
    },
    {
     "name": "stderr",
     "output_type": "stream",
     "text": [
      "/home/biowar1337/anaconda3/lib/python3.7/site-packages/sklearn/model_selection/_validation.py:536: FitFailedWarning: Estimator fit failed. The score on this train-test partition for these parameters will be set to nan. Details: \n",
      "ValueError: min_samples_split must be an integer greater than 1 or a float in (0.0, 1.0]; got the integer 1\n",
      "\n",
      "  FitFailedWarning)\n",
      "/home/biowar1337/anaconda3/lib/python3.7/site-packages/sklearn/model_selection/_validation.py:536: FitFailedWarning: Estimator fit failed. The score on this train-test partition for these parameters will be set to nan. Details: \n",
      "ValueError: min_samples_split must be an integer greater than 1 or a float in (0.0, 1.0]; got the integer 1\n",
      "\n",
      "  FitFailedWarning)\n",
      "/home/biowar1337/anaconda3/lib/python3.7/site-packages/sklearn/model_selection/_validation.py:536: FitFailedWarning: Estimator fit failed. The score on this train-test partition for these parameters will be set to nan. Details: \n",
      "ValueError: min_samples_split must be an integer greater than 1 or a float in (0.0, 1.0]; got the integer 1\n",
      "\n",
      "  FitFailedWarning)\n",
      "/home/biowar1337/anaconda3/lib/python3.7/site-packages/sklearn/model_selection/_validation.py:536: FitFailedWarning: Estimator fit failed. The score on this train-test partition for these parameters will be set to nan. Details: \n",
      "ValueError: min_samples_split must be an integer greater than 1 or a float in (0.0, 1.0]; got the integer 1\n",
      "\n",
      "  FitFailedWarning)\n",
      "/home/biowar1337/anaconda3/lib/python3.7/site-packages/sklearn/model_selection/_validation.py:536: FitFailedWarning: Estimator fit failed. The score on this train-test partition for these parameters will be set to nan. Details: \n",
      "ValueError: min_samples_split must be an integer greater than 1 or a float in (0.0, 1.0]; got the integer 1\n",
      "\n",
      "  FitFailedWarning)\n",
      "/home/biowar1337/anaconda3/lib/python3.7/site-packages/sklearn/model_selection/_validation.py:536: FitFailedWarning: Estimator fit failed. The score on this train-test partition for these parameters will be set to nan. Details: \n",
      "ValueError: min_samples_split must be an integer greater than 1 or a float in (0.0, 1.0]; got the integer 1\n",
      "\n",
      "  FitFailedWarning)\n",
      "/home/biowar1337/anaconda3/lib/python3.7/site-packages/sklearn/model_selection/_validation.py:536: FitFailedWarning: Estimator fit failed. The score on this train-test partition for these parameters will be set to nan. Details: \n",
      "ValueError: min_samples_split must be an integer greater than 1 or a float in (0.0, 1.0]; got the integer 1\n",
      "\n",
      "  FitFailedWarning)\n",
      "/home/biowar1337/anaconda3/lib/python3.7/site-packages/sklearn/model_selection/_validation.py:536: FitFailedWarning: Estimator fit failed. The score on this train-test partition for these parameters will be set to nan. Details: \n",
      "ValueError: min_samples_split must be an integer greater than 1 or a float in (0.0, 1.0]; got the integer 1\n",
      "\n",
      "  FitFailedWarning)\n",
      "/home/biowar1337/anaconda3/lib/python3.7/site-packages/sklearn/model_selection/_validation.py:536: FitFailedWarning: Estimator fit failed. The score on this train-test partition for these parameters will be set to nan. Details: \n",
      "ValueError: min_samples_split must be an integer greater than 1 or a float in (0.0, 1.0]; got the integer 1\n",
      "\n",
      "  FitFailedWarning)\n",
      "/home/biowar1337/anaconda3/lib/python3.7/site-packages/sklearn/model_selection/_validation.py:536: FitFailedWarning: Estimator fit failed. The score on this train-test partition for these parameters will be set to nan. Details: \n",
      "ValueError: min_samples_split must be an integer greater than 1 or a float in (0.0, 1.0]; got the integer 1\n",
      "\n",
      "  FitFailedWarning)\n"
     ]
    },
    {
     "name": "stdout",
     "output_type": "stream",
     "text": [
      "[CV]  criterion=gini, max_depth=1, min_samples_leaf=4, min_samples_split=2, total=   0.0s\n",
      "[CV] criterion=gini, max_depth=1, min_samples_leaf=4, min_samples_split=3 \n",
      "[CV]  criterion=gini, max_depth=1, min_samples_leaf=4, min_samples_split=3, total=   0.0s\n",
      "[CV] criterion=gini, max_depth=1, min_samples_leaf=4, min_samples_split=3 \n",
      "[CV]  criterion=gini, max_depth=1, min_samples_leaf=4, min_samples_split=3, total=   0.0s\n",
      "[CV] criterion=gini, max_depth=1, min_samples_leaf=4, min_samples_split=3 \n",
      "[CV]  criterion=gini, max_depth=1, min_samples_leaf=4, min_samples_split=3, total=   0.0s\n",
      "[CV] criterion=gini, max_depth=1, min_samples_leaf=4, min_samples_split=3 \n",
      "[CV]  criterion=gini, max_depth=1, min_samples_leaf=4, min_samples_split=3, total=   0.0s\n",
      "[CV] criterion=gini, max_depth=1, min_samples_leaf=4, min_samples_split=3 \n",
      "[CV]  criterion=gini, max_depth=1, min_samples_leaf=4, min_samples_split=3, total=   0.0s\n",
      "[CV] criterion=gini, max_depth=1, min_samples_leaf=4, min_samples_split=4 \n",
      "[CV]  criterion=gini, max_depth=1, min_samples_leaf=4, min_samples_split=4, total=   0.0s\n",
      "[CV] criterion=gini, max_depth=1, min_samples_leaf=4, min_samples_split=4 \n",
      "[CV]  criterion=gini, max_depth=1, min_samples_leaf=4, min_samples_split=4, total=   0.0s\n",
      "[CV] criterion=gini, max_depth=1, min_samples_leaf=4, min_samples_split=4 \n",
      "[CV]  criterion=gini, max_depth=1, min_samples_leaf=4, min_samples_split=4, total=   0.0s\n",
      "[CV] criterion=gini, max_depth=1, min_samples_leaf=4, min_samples_split=4 \n",
      "[CV]  criterion=gini, max_depth=1, min_samples_leaf=4, min_samples_split=4, total=   0.0s\n",
      "[CV] criterion=gini, max_depth=1, min_samples_leaf=4, min_samples_split=4 \n",
      "[CV]  criterion=gini, max_depth=1, min_samples_leaf=4, min_samples_split=4, total=   0.0s\n",
      "[CV] criterion=gini, max_depth=2, min_samples_leaf=1, min_samples_split=1 \n",
      "[CV]  criterion=gini, max_depth=2, min_samples_leaf=1, min_samples_split=1, total=   0.0s\n",
      "[CV] criterion=gini, max_depth=2, min_samples_leaf=1, min_samples_split=1 \n",
      "[CV]  criterion=gini, max_depth=2, min_samples_leaf=1, min_samples_split=1, total=   0.0s\n",
      "[CV] criterion=gini, max_depth=2, min_samples_leaf=1, min_samples_split=1 \n",
      "[CV]  criterion=gini, max_depth=2, min_samples_leaf=1, min_samples_split=1, total=   0.0s\n",
      "[CV] criterion=gini, max_depth=2, min_samples_leaf=1, min_samples_split=1 \n",
      "[CV]  criterion=gini, max_depth=2, min_samples_leaf=1, min_samples_split=1, total=   0.0s\n",
      "[CV] criterion=gini, max_depth=2, min_samples_leaf=1, min_samples_split=1 \n",
      "[CV]  criterion=gini, max_depth=2, min_samples_leaf=1, min_samples_split=1, total=   0.0s\n",
      "[CV] criterion=gini, max_depth=2, min_samples_leaf=1, min_samples_split=2 \n",
      "[CV]  criterion=gini, max_depth=2, min_samples_leaf=1, min_samples_split=2, total=   0.0s\n",
      "[CV] criterion=gini, max_depth=2, min_samples_leaf=1, min_samples_split=2 \n",
      "[CV]  criterion=gini, max_depth=2, min_samples_leaf=1, min_samples_split=2, total=   0.0s\n",
      "[CV] criterion=gini, max_depth=2, min_samples_leaf=1, min_samples_split=2 \n",
      "[CV]  criterion=gini, max_depth=2, min_samples_leaf=1, min_samples_split=2, total=   0.0s\n",
      "[CV] criterion=gini, max_depth=2, min_samples_leaf=1, min_samples_split=2 \n",
      "[CV]  criterion=gini, max_depth=2, min_samples_leaf=1, min_samples_split=2, total=   0.0s\n",
      "[CV] criterion=gini, max_depth=2, min_samples_leaf=1, min_samples_split=2 \n",
      "[CV]  criterion=gini, max_depth=2, min_samples_leaf=1, min_samples_split=2, total=   0.0s\n",
      "[CV] criterion=gini, max_depth=2, min_samples_leaf=1, min_samples_split=3 \n",
      "[CV]  criterion=gini, max_depth=2, min_samples_leaf=1, min_samples_split=3, total=   0.0s\n",
      "[CV] criterion=gini, max_depth=2, min_samples_leaf=1, min_samples_split=3 \n",
      "[CV]  criterion=gini, max_depth=2, min_samples_leaf=1, min_samples_split=3, total=   0.0s\n",
      "[CV] criterion=gini, max_depth=2, min_samples_leaf=1, min_samples_split=3 \n",
      "[CV]  criterion=gini, max_depth=2, min_samples_leaf=1, min_samples_split=3, total=   0.0s\n",
      "[CV] criterion=gini, max_depth=2, min_samples_leaf=1, min_samples_split=3 \n",
      "[CV]  criterion=gini, max_depth=2, min_samples_leaf=1, min_samples_split=3, total=   0.0s\n",
      "[CV] criterion=gini, max_depth=2, min_samples_leaf=1, min_samples_split=3 \n",
      "[CV]  criterion=gini, max_depth=2, min_samples_leaf=1, min_samples_split=3, total=   0.0s\n",
      "[CV] criterion=gini, max_depth=2, min_samples_leaf=1, min_samples_split=4 \n",
      "[CV]  criterion=gini, max_depth=2, min_samples_leaf=1, min_samples_split=4, total=   0.0s\n",
      "[CV] criterion=gini, max_depth=2, min_samples_leaf=1, min_samples_split=4 \n",
      "[CV]  criterion=gini, max_depth=2, min_samples_leaf=1, min_samples_split=4, total=   0.0s\n",
      "[CV] criterion=gini, max_depth=2, min_samples_leaf=1, min_samples_split=4 \n",
      "[CV]  criterion=gini, max_depth=2, min_samples_leaf=1, min_samples_split=4, total=   0.0s\n",
      "[CV] criterion=gini, max_depth=2, min_samples_leaf=1, min_samples_split=4 \n"
     ]
    },
    {
     "name": "stderr",
     "output_type": "stream",
     "text": [
      "/home/biowar1337/anaconda3/lib/python3.7/site-packages/sklearn/model_selection/_validation.py:536: FitFailedWarning: Estimator fit failed. The score on this train-test partition for these parameters will be set to nan. Details: \n",
      "ValueError: min_samples_split must be an integer greater than 1 or a float in (0.0, 1.0]; got the integer 1\n",
      "\n",
      "  FitFailedWarning)\n",
      "/home/biowar1337/anaconda3/lib/python3.7/site-packages/sklearn/model_selection/_validation.py:536: FitFailedWarning: Estimator fit failed. The score on this train-test partition for these parameters will be set to nan. Details: \n",
      "ValueError: min_samples_split must be an integer greater than 1 or a float in (0.0, 1.0]; got the integer 1\n",
      "\n",
      "  FitFailedWarning)\n",
      "/home/biowar1337/anaconda3/lib/python3.7/site-packages/sklearn/model_selection/_validation.py:536: FitFailedWarning: Estimator fit failed. The score on this train-test partition for these parameters will be set to nan. Details: \n",
      "ValueError: min_samples_split must be an integer greater than 1 or a float in (0.0, 1.0]; got the integer 1\n",
      "\n",
      "  FitFailedWarning)\n",
      "/home/biowar1337/anaconda3/lib/python3.7/site-packages/sklearn/model_selection/_validation.py:536: FitFailedWarning: Estimator fit failed. The score on this train-test partition for these parameters will be set to nan. Details: \n",
      "ValueError: min_samples_split must be an integer greater than 1 or a float in (0.0, 1.0]; got the integer 1\n",
      "\n",
      "  FitFailedWarning)\n",
      "/home/biowar1337/anaconda3/lib/python3.7/site-packages/sklearn/model_selection/_validation.py:536: FitFailedWarning: Estimator fit failed. The score on this train-test partition for these parameters will be set to nan. Details: \n",
      "ValueError: min_samples_split must be an integer greater than 1 or a float in (0.0, 1.0]; got the integer 1\n",
      "\n",
      "  FitFailedWarning)\n",
      "/home/biowar1337/anaconda3/lib/python3.7/site-packages/sklearn/model_selection/_validation.py:536: FitFailedWarning: Estimator fit failed. The score on this train-test partition for these parameters will be set to nan. Details: \n",
      "ValueError: min_samples_split must be an integer greater than 1 or a float in (0.0, 1.0]; got the integer 1\n",
      "\n",
      "  FitFailedWarning)\n",
      "/home/biowar1337/anaconda3/lib/python3.7/site-packages/sklearn/model_selection/_validation.py:536: FitFailedWarning: Estimator fit failed. The score on this train-test partition for these parameters will be set to nan. Details: \n",
      "ValueError: min_samples_split must be an integer greater than 1 or a float in (0.0, 1.0]; got the integer 1\n",
      "\n",
      "  FitFailedWarning)\n",
      "/home/biowar1337/anaconda3/lib/python3.7/site-packages/sklearn/model_selection/_validation.py:536: FitFailedWarning: Estimator fit failed. The score on this train-test partition for these parameters will be set to nan. Details: \n",
      "ValueError: min_samples_split must be an integer greater than 1 or a float in (0.0, 1.0]; got the integer 1\n",
      "\n",
      "  FitFailedWarning)\n",
      "/home/biowar1337/anaconda3/lib/python3.7/site-packages/sklearn/model_selection/_validation.py:536: FitFailedWarning: Estimator fit failed. The score on this train-test partition for these parameters will be set to nan. Details: \n",
      "ValueError: min_samples_split must be an integer greater than 1 or a float in (0.0, 1.0]; got the integer 1\n",
      "\n",
      "  FitFailedWarning)\n",
      "/home/biowar1337/anaconda3/lib/python3.7/site-packages/sklearn/model_selection/_validation.py:536: FitFailedWarning: Estimator fit failed. The score on this train-test partition for these parameters will be set to nan. Details: \n",
      "ValueError: min_samples_split must be an integer greater than 1 or a float in (0.0, 1.0]; got the integer 1\n",
      "\n",
      "  FitFailedWarning)\n"
     ]
    },
    {
     "name": "stdout",
     "output_type": "stream",
     "text": [
      "[CV]  criterion=gini, max_depth=2, min_samples_leaf=1, min_samples_split=4, total=   0.0s\n",
      "[CV] criterion=gini, max_depth=2, min_samples_leaf=1, min_samples_split=4 \n",
      "[CV]  criterion=gini, max_depth=2, min_samples_leaf=1, min_samples_split=4, total=   0.0s\n",
      "[CV] criterion=gini, max_depth=2, min_samples_leaf=2, min_samples_split=1 \n",
      "[CV]  criterion=gini, max_depth=2, min_samples_leaf=2, min_samples_split=1, total=   0.0s\n",
      "[CV] criterion=gini, max_depth=2, min_samples_leaf=2, min_samples_split=1 \n",
      "[CV]  criterion=gini, max_depth=2, min_samples_leaf=2, min_samples_split=1, total=   0.0s\n",
      "[CV] criterion=gini, max_depth=2, min_samples_leaf=2, min_samples_split=1 \n",
      "[CV]  criterion=gini, max_depth=2, min_samples_leaf=2, min_samples_split=1, total=   0.0s\n",
      "[CV] criterion=gini, max_depth=2, min_samples_leaf=2, min_samples_split=1 \n",
      "[CV]  criterion=gini, max_depth=2, min_samples_leaf=2, min_samples_split=1, total=   0.0s\n",
      "[CV] criterion=gini, max_depth=2, min_samples_leaf=2, min_samples_split=1 \n",
      "[CV]  criterion=gini, max_depth=2, min_samples_leaf=2, min_samples_split=1, total=   0.0s\n",
      "[CV] criterion=gini, max_depth=2, min_samples_leaf=2, min_samples_split=2 \n",
      "[CV]  criterion=gini, max_depth=2, min_samples_leaf=2, min_samples_split=2, total=   0.0s\n",
      "[CV] criterion=gini, max_depth=2, min_samples_leaf=2, min_samples_split=2 \n",
      "[CV]  criterion=gini, max_depth=2, min_samples_leaf=2, min_samples_split=2, total=   0.0s\n",
      "[CV] criterion=gini, max_depth=2, min_samples_leaf=2, min_samples_split=2 \n",
      "[CV]  criterion=gini, max_depth=2, min_samples_leaf=2, min_samples_split=2, total=   0.0s\n",
      "[CV] criterion=gini, max_depth=2, min_samples_leaf=2, min_samples_split=2 \n",
      "[CV]  criterion=gini, max_depth=2, min_samples_leaf=2, min_samples_split=2, total=   0.0s\n",
      "[CV] criterion=gini, max_depth=2, min_samples_leaf=2, min_samples_split=2 \n",
      "[CV]  criterion=gini, max_depth=2, min_samples_leaf=2, min_samples_split=2, total=   0.0s\n",
      "[CV] criterion=gini, max_depth=2, min_samples_leaf=2, min_samples_split=3 \n",
      "[CV]  criterion=gini, max_depth=2, min_samples_leaf=2, min_samples_split=3, total=   0.0s\n",
      "[CV] criterion=gini, max_depth=2, min_samples_leaf=2, min_samples_split=3 \n",
      "[CV]  criterion=gini, max_depth=2, min_samples_leaf=2, min_samples_split=3, total=   0.0s\n",
      "[CV] criterion=gini, max_depth=2, min_samples_leaf=2, min_samples_split=3 \n",
      "[CV]  criterion=gini, max_depth=2, min_samples_leaf=2, min_samples_split=3, total=   0.0s\n",
      "[CV] criterion=gini, max_depth=2, min_samples_leaf=2, min_samples_split=3 \n",
      "[CV]  criterion=gini, max_depth=2, min_samples_leaf=2, min_samples_split=3, total=   0.0s\n",
      "[CV] criterion=gini, max_depth=2, min_samples_leaf=2, min_samples_split=3 \n",
      "[CV]  criterion=gini, max_depth=2, min_samples_leaf=2, min_samples_split=3, total=   0.0s\n",
      "[CV] criterion=gini, max_depth=2, min_samples_leaf=2, min_samples_split=4 \n",
      "[CV]  criterion=gini, max_depth=2, min_samples_leaf=2, min_samples_split=4, total=   0.0s\n",
      "[CV] criterion=gini, max_depth=2, min_samples_leaf=2, min_samples_split=4 \n",
      "[CV]  criterion=gini, max_depth=2, min_samples_leaf=2, min_samples_split=4, total=   0.0s\n",
      "[CV] criterion=gini, max_depth=2, min_samples_leaf=2, min_samples_split=4 \n",
      "[CV]  criterion=gini, max_depth=2, min_samples_leaf=2, min_samples_split=4, total=   0.0s\n",
      "[CV] criterion=gini, max_depth=2, min_samples_leaf=2, min_samples_split=4 \n",
      "[CV]  criterion=gini, max_depth=2, min_samples_leaf=2, min_samples_split=4, total=   0.0s\n",
      "[CV] criterion=gini, max_depth=2, min_samples_leaf=2, min_samples_split=4 \n",
      "[CV]  criterion=gini, max_depth=2, min_samples_leaf=2, min_samples_split=4, total=   0.0s\n",
      "[CV] criterion=gini, max_depth=2, min_samples_leaf=3, min_samples_split=1 \n",
      "[CV]  criterion=gini, max_depth=2, min_samples_leaf=3, min_samples_split=1, total=   0.0s\n",
      "[CV] criterion=gini, max_depth=2, min_samples_leaf=3, min_samples_split=1 \n",
      "[CV]  criterion=gini, max_depth=2, min_samples_leaf=3, min_samples_split=1, total=   0.0s\n",
      "[CV] criterion=gini, max_depth=2, min_samples_leaf=3, min_samples_split=1 \n",
      "[CV]  criterion=gini, max_depth=2, min_samples_leaf=3, min_samples_split=1, total=   0.0s\n",
      "[CV] criterion=gini, max_depth=2, min_samples_leaf=3, min_samples_split=1 \n",
      "[CV]  criterion=gini, max_depth=2, min_samples_leaf=3, min_samples_split=1, total=   0.0s\n",
      "[CV] criterion=gini, max_depth=2, min_samples_leaf=3, min_samples_split=1 \n",
      "[CV]  criterion=gini, max_depth=2, min_samples_leaf=3, min_samples_split=1, total=   0.0s\n",
      "[CV] criterion=gini, max_depth=2, min_samples_leaf=3, min_samples_split=2 \n"
     ]
    },
    {
     "name": "stderr",
     "output_type": "stream",
     "text": [
      "/home/biowar1337/anaconda3/lib/python3.7/site-packages/sklearn/model_selection/_validation.py:536: FitFailedWarning: Estimator fit failed. The score on this train-test partition for these parameters will be set to nan. Details: \n",
      "ValueError: min_samples_split must be an integer greater than 1 or a float in (0.0, 1.0]; got the integer 1\n",
      "\n",
      "  FitFailedWarning)\n",
      "/home/biowar1337/anaconda3/lib/python3.7/site-packages/sklearn/model_selection/_validation.py:536: FitFailedWarning: Estimator fit failed. The score on this train-test partition for these parameters will be set to nan. Details: \n",
      "ValueError: min_samples_split must be an integer greater than 1 or a float in (0.0, 1.0]; got the integer 1\n",
      "\n",
      "  FitFailedWarning)\n",
      "/home/biowar1337/anaconda3/lib/python3.7/site-packages/sklearn/model_selection/_validation.py:536: FitFailedWarning: Estimator fit failed. The score on this train-test partition for these parameters will be set to nan. Details: \n",
      "ValueError: min_samples_split must be an integer greater than 1 or a float in (0.0, 1.0]; got the integer 1\n",
      "\n",
      "  FitFailedWarning)\n",
      "/home/biowar1337/anaconda3/lib/python3.7/site-packages/sklearn/model_selection/_validation.py:536: FitFailedWarning: Estimator fit failed. The score on this train-test partition for these parameters will be set to nan. Details: \n",
      "ValueError: min_samples_split must be an integer greater than 1 or a float in (0.0, 1.0]; got the integer 1\n",
      "\n",
      "  FitFailedWarning)\n",
      "/home/biowar1337/anaconda3/lib/python3.7/site-packages/sklearn/model_selection/_validation.py:536: FitFailedWarning: Estimator fit failed. The score on this train-test partition for these parameters will be set to nan. Details: \n",
      "ValueError: min_samples_split must be an integer greater than 1 or a float in (0.0, 1.0]; got the integer 1\n",
      "\n",
      "  FitFailedWarning)\n",
      "/home/biowar1337/anaconda3/lib/python3.7/site-packages/sklearn/model_selection/_validation.py:536: FitFailedWarning: Estimator fit failed. The score on this train-test partition for these parameters will be set to nan. Details: \n",
      "ValueError: min_samples_split must be an integer greater than 1 or a float in (0.0, 1.0]; got the integer 1\n",
      "\n",
      "  FitFailedWarning)\n",
      "/home/biowar1337/anaconda3/lib/python3.7/site-packages/sklearn/model_selection/_validation.py:536: FitFailedWarning: Estimator fit failed. The score on this train-test partition for these parameters will be set to nan. Details: \n",
      "ValueError: min_samples_split must be an integer greater than 1 or a float in (0.0, 1.0]; got the integer 1\n",
      "\n",
      "  FitFailedWarning)\n",
      "/home/biowar1337/anaconda3/lib/python3.7/site-packages/sklearn/model_selection/_validation.py:536: FitFailedWarning: Estimator fit failed. The score on this train-test partition for these parameters will be set to nan. Details: \n",
      "ValueError: min_samples_split must be an integer greater than 1 or a float in (0.0, 1.0]; got the integer 1\n",
      "\n",
      "  FitFailedWarning)\n",
      "/home/biowar1337/anaconda3/lib/python3.7/site-packages/sklearn/model_selection/_validation.py:536: FitFailedWarning: Estimator fit failed. The score on this train-test partition for these parameters will be set to nan. Details: \n",
      "ValueError: min_samples_split must be an integer greater than 1 or a float in (0.0, 1.0]; got the integer 1\n",
      "\n",
      "  FitFailedWarning)\n",
      "/home/biowar1337/anaconda3/lib/python3.7/site-packages/sklearn/model_selection/_validation.py:536: FitFailedWarning: Estimator fit failed. The score on this train-test partition for these parameters will be set to nan. Details: \n",
      "ValueError: min_samples_split must be an integer greater than 1 or a float in (0.0, 1.0]; got the integer 1\n",
      "\n",
      "  FitFailedWarning)\n"
     ]
    },
    {
     "name": "stdout",
     "output_type": "stream",
     "text": [
      "[CV]  criterion=gini, max_depth=2, min_samples_leaf=3, min_samples_split=2, total=   0.0s\n",
      "[CV] criterion=gini, max_depth=2, min_samples_leaf=3, min_samples_split=2 \n",
      "[CV]  criterion=gini, max_depth=2, min_samples_leaf=3, min_samples_split=2, total=   0.0s\n",
      "[CV] criterion=gini, max_depth=2, min_samples_leaf=3, min_samples_split=2 \n",
      "[CV]  criterion=gini, max_depth=2, min_samples_leaf=3, min_samples_split=2, total=   0.0s\n",
      "[CV] criterion=gini, max_depth=2, min_samples_leaf=3, min_samples_split=2 \n",
      "[CV]  criterion=gini, max_depth=2, min_samples_leaf=3, min_samples_split=2, total=   0.0s\n",
      "[CV] criterion=gini, max_depth=2, min_samples_leaf=3, min_samples_split=2 \n",
      "[CV]  criterion=gini, max_depth=2, min_samples_leaf=3, min_samples_split=2, total=   0.0s\n",
      "[CV] criterion=gini, max_depth=2, min_samples_leaf=3, min_samples_split=3 \n",
      "[CV]  criterion=gini, max_depth=2, min_samples_leaf=3, min_samples_split=3, total=   0.0s\n",
      "[CV] criterion=gini, max_depth=2, min_samples_leaf=3, min_samples_split=3 \n",
      "[CV]  criterion=gini, max_depth=2, min_samples_leaf=3, min_samples_split=3, total=   0.0s\n",
      "[CV] criterion=gini, max_depth=2, min_samples_leaf=3, min_samples_split=3 \n",
      "[CV]  criterion=gini, max_depth=2, min_samples_leaf=3, min_samples_split=3, total=   0.0s\n",
      "[CV] criterion=gini, max_depth=2, min_samples_leaf=3, min_samples_split=3 \n",
      "[CV]  criterion=gini, max_depth=2, min_samples_leaf=3, min_samples_split=3, total=   0.0s\n",
      "[CV] criterion=gini, max_depth=2, min_samples_leaf=3, min_samples_split=3 \n",
      "[CV]  criterion=gini, max_depth=2, min_samples_leaf=3, min_samples_split=3, total=   0.0s\n",
      "[CV] criterion=gini, max_depth=2, min_samples_leaf=3, min_samples_split=4 \n",
      "[CV]  criterion=gini, max_depth=2, min_samples_leaf=3, min_samples_split=4, total=   0.0s\n",
      "[CV] criterion=gini, max_depth=2, min_samples_leaf=3, min_samples_split=4 \n",
      "[CV]  criterion=gini, max_depth=2, min_samples_leaf=3, min_samples_split=4, total=   0.0s\n",
      "[CV] criterion=gini, max_depth=2, min_samples_leaf=3, min_samples_split=4 \n",
      "[CV]  criterion=gini, max_depth=2, min_samples_leaf=3, min_samples_split=4, total=   0.0s\n",
      "[CV] criterion=gini, max_depth=2, min_samples_leaf=3, min_samples_split=4 \n",
      "[CV]  criterion=gini, max_depth=2, min_samples_leaf=3, min_samples_split=4, total=   0.0s\n",
      "[CV] criterion=gini, max_depth=2, min_samples_leaf=3, min_samples_split=4 \n",
      "[CV]  criterion=gini, max_depth=2, min_samples_leaf=3, min_samples_split=4, total=   0.0s\n",
      "[CV] criterion=gini, max_depth=2, min_samples_leaf=4, min_samples_split=1 \n",
      "[CV]  criterion=gini, max_depth=2, min_samples_leaf=4, min_samples_split=1, total=   0.0s\n",
      "[CV] criterion=gini, max_depth=2, min_samples_leaf=4, min_samples_split=1 \n",
      "[CV]  criterion=gini, max_depth=2, min_samples_leaf=4, min_samples_split=1, total=   0.0s\n",
      "[CV] criterion=gini, max_depth=2, min_samples_leaf=4, min_samples_split=1 \n",
      "[CV]  criterion=gini, max_depth=2, min_samples_leaf=4, min_samples_split=1, total=   0.0s\n",
      "[CV] criterion=gini, max_depth=2, min_samples_leaf=4, min_samples_split=1 \n",
      "[CV]  criterion=gini, max_depth=2, min_samples_leaf=4, min_samples_split=1, total=   0.0s\n",
      "[CV] criterion=gini, max_depth=2, min_samples_leaf=4, min_samples_split=1 \n",
      "[CV]  criterion=gini, max_depth=2, min_samples_leaf=4, min_samples_split=1, total=   0.0s\n",
      "[CV] criterion=gini, max_depth=2, min_samples_leaf=4, min_samples_split=2 \n",
      "[CV]  criterion=gini, max_depth=2, min_samples_leaf=4, min_samples_split=2, total=   0.0s\n",
      "[CV] criterion=gini, max_depth=2, min_samples_leaf=4, min_samples_split=2 \n",
      "[CV]  criterion=gini, max_depth=2, min_samples_leaf=4, min_samples_split=2, total=   0.0s\n",
      "[CV] criterion=gini, max_depth=2, min_samples_leaf=4, min_samples_split=2 \n",
      "[CV]  criterion=gini, max_depth=2, min_samples_leaf=4, min_samples_split=2, total=   0.0s\n",
      "[CV] criterion=gini, max_depth=2, min_samples_leaf=4, min_samples_split=2 \n",
      "[CV]  criterion=gini, max_depth=2, min_samples_leaf=4, min_samples_split=2, total=   0.0s\n",
      "[CV] criterion=gini, max_depth=2, min_samples_leaf=4, min_samples_split=2 \n",
      "[CV]  criterion=gini, max_depth=2, min_samples_leaf=4, min_samples_split=2, total=   0.0s\n",
      "[CV] criterion=gini, max_depth=2, min_samples_leaf=4, min_samples_split=3 \n",
      "[CV]  criterion=gini, max_depth=2, min_samples_leaf=4, min_samples_split=3, total=   0.0s\n",
      "[CV] criterion=gini, max_depth=2, min_samples_leaf=4, min_samples_split=3 \n",
      "[CV]  criterion=gini, max_depth=2, min_samples_leaf=4, min_samples_split=3, total=   0.0s\n",
      "[CV] criterion=gini, max_depth=2, min_samples_leaf=4, min_samples_split=3 \n",
      "[CV]  criterion=gini, max_depth=2, min_samples_leaf=4, min_samples_split=3, total=   0.0s\n",
      "[CV] criterion=gini, max_depth=2, min_samples_leaf=4, min_samples_split=3 \n",
      "[CV]  criterion=gini, max_depth=2, min_samples_leaf=4, min_samples_split=3, total=   0.0s\n",
      "[CV] criterion=gini, max_depth=2, min_samples_leaf=4, min_samples_split=3 \n",
      "[CV]  criterion=gini, max_depth=2, min_samples_leaf=4, min_samples_split=3, total=   0.0s\n",
      "[CV] criterion=gini, max_depth=2, min_samples_leaf=4, min_samples_split=4 \n",
      "[CV]  criterion=gini, max_depth=2, min_samples_leaf=4, min_samples_split=4, total=   0.0s\n",
      "[CV] criterion=gini, max_depth=2, min_samples_leaf=4, min_samples_split=4 \n",
      "[CV]  criterion=gini, max_depth=2, min_samples_leaf=4, min_samples_split=4, total=   0.0s\n",
      "[CV] criterion=gini, max_depth=2, min_samples_leaf=4, min_samples_split=4 \n",
      "[CV]  criterion=gini, max_depth=2, min_samples_leaf=4, min_samples_split=4, total=   0.0s\n",
      "[CV] criterion=gini, max_depth=2, min_samples_leaf=4, min_samples_split=4 \n",
      "[CV]  criterion=gini, max_depth=2, min_samples_leaf=4, min_samples_split=4, total=   0.0s\n",
      "[CV] criterion=gini, max_depth=2, min_samples_leaf=4, min_samples_split=4 \n",
      "[CV]  criterion=gini, max_depth=2, min_samples_leaf=4, min_samples_split=4, total=   0.0s\n"
     ]
    },
    {
     "name": "stderr",
     "output_type": "stream",
     "text": [
      "[Parallel(n_jobs=1)]: Done 160 out of 160 | elapsed:    1.1s finished\n"
     ]
    },
    {
     "data": {
      "text/plain": [
       "GridSearchCV(cv=5, error_score=nan,\n",
       "             estimator=DecisionTreeClassifier(ccp_alpha=0.0, class_weight=None,\n",
       "                                              criterion='gini', max_depth=None,\n",
       "                                              max_features=None,\n",
       "                                              max_leaf_nodes=None,\n",
       "                                              min_impurity_decrease=0.0,\n",
       "                                              min_impurity_split=None,\n",
       "                                              min_samples_leaf=1,\n",
       "                                              min_samples_split=2,\n",
       "                                              min_weight_fraction_leaf=0.0,\n",
       "                                              presort='deprecated',\n",
       "                                              random_state=None,\n",
       "                                              splitter='best'),\n",
       "             iid='deprecated', n_jobs=None,\n",
       "             param_grid=[{'criterion': ['gini'], 'max_depth': [1, 2],\n",
       "                          'min_samples_leaf': [1, 2, 3, 4],\n",
       "                          'min_samples_split': [1, 2, 3, 4]}],\n",
       "             pre_dispatch='2*n_jobs', refit=True, return_train_score=False,\n",
       "             scoring='neg_mean_squared_error', verbose=2)"
      ]
     },
     "execution_count": 22,
     "metadata": {},
     "output_type": "execute_result"
    }
   ],
   "source": [
    "param_grid = [\n",
    "    {\"criterion\":[\"gini\"],\n",
    "     \"max_depth\":[1,2],\n",
    "     \"min_samples_split\":[1,2,3,4],\n",
    "     \"min_samples_leaf\":[1,2,3,4]},    \n",
    "]\n",
    "\n",
    "tree_clf = DecisionTreeClassifier()\n",
    "grid_search = GridSearchCV(tree_clf,\n",
    "                           param_grid,\n",
    "                           cv=5,\n",
    "                           scoring=\"neg_mean_squared_error\", \n",
    "                           verbose=2)\n",
    "grid_search.fit(X_train, y_train)"
   ]
  },
  {
   "cell_type": "code",
   "execution_count": 21,
   "metadata": {},
   "outputs": [
    {
     "data": {
      "text/plain": [
       "DecisionTreeClassifier(ccp_alpha=0.0, class_weight=None, criterion='gini',\n",
       "                       max_depth=2, max_features=None, max_leaf_nodes=None,\n",
       "                       min_impurity_decrease=0.0, min_impurity_split=None,\n",
       "                       min_samples_leaf=3, min_samples_split=3,\n",
       "                       min_weight_fraction_leaf=0.0, presort='deprecated',\n",
       "                       random_state=None, splitter='best')"
      ]
     },
     "execution_count": 21,
     "metadata": {},
     "output_type": "execute_result"
    }
   ],
   "source": [
    "grid_search.best_estimator_"
   ]
  },
  {
   "cell_type": "code",
   "execution_count": 23,
   "metadata": {},
   "outputs": [
    {
     "data": {
      "text/plain": [
       "DecisionTreeClassifier(ccp_alpha=0.0, class_weight=None, criterion='gini',\n",
       "                       max_depth=2, max_features=None, max_leaf_nodes=None,\n",
       "                       min_impurity_decrease=0.0, min_impurity_split=None,\n",
       "                       min_samples_leaf=1, min_samples_split=2,\n",
       "                       min_weight_fraction_leaf=0.0, presort='deprecated',\n",
       "                       random_state=None, splitter='best')"
      ]
     },
     "execution_count": 23,
     "metadata": {},
     "output_type": "execute_result"
    }
   ],
   "source": [
    "grid_search.best_estimator_"
   ]
  },
  {
   "cell_type": "code",
   "execution_count": 27,
   "metadata": {},
   "outputs": [],
   "source": [
    "y_pred = grid_search.best_estimator_.predict(X_test)"
   ]
  },
  {
   "cell_type": "code",
   "execution_count": 28,
   "metadata": {},
   "outputs": [
    {
     "data": {
      "text/plain": [
       "0.8455"
      ]
     },
     "execution_count": 28,
     "metadata": {},
     "output_type": "execute_result"
    }
   ],
   "source": [
    "from sklearn.metrics import accuracy_score\n",
    "\n",
    "accuracy_score(y_test, y_pred)"
   ]
  },
  {
   "cell_type": "code",
   "execution_count": 44,
   "metadata": {},
   "outputs": [
    {
     "data": {
      "image/png": "[encoded data removed]",
      "text/plain": [
       "<Figure size 432x288 with 1 Axes>"
      ]
     },
     "metadata": {
      "needs_background": "light"
     },
     "output_type": "display_data"
    }
   ],
   "source": [
    "from matplotlib.colors import ListedColormap\n",
    "\n",
    "def plot_decision_boundary(clf, X, y, axes=[0, 7.5, 0, 3], iris=True, legend=False, plot_training=True):\n",
    "    x1s = np.linspace(axes[0], axes[1], 100)\n",
    "    x2s = np.linspace(axes[2], axes[3], 100)\n",
    "    x1, x2 = np.meshgrid(x1s, x2s)\n",
    "    X_new = np.c_[x1.ravel(), x2.ravel()]\n",
    "    y_pred = clf.predict(X_new).reshape(x1.shape)\n",
    "    custom_cmap = ListedColormap(['#fafab0','#9898ff','#a0faa0'])\n",
    "    plt.contourf(x1, x2, y_pred, alpha=0.4, cmap=custom_cmap)\n",
    "    if not iris:\n",
    "        custom_cmap2 = ListedColormap(['#7d7d58','#4c4c7f','#507d50'])\n",
    "        plt.contour(x1, x2, y_pred, cmap=custom_cmap2, alpha=0.8)\n",
    "    if plot_training:\n",
    "        plt.plot(X[:, 0][y==0], X[:, 1][y==0], \"yo\", alpha=0.05)\n",
    "        plt.plot(X[:, 0][y==1], X[:, 1][y==1], \"bs\", alpha=0.05)\n",
    "        plt.axis(axes)\n",
    "    else:\n",
    "        plt.xlabel(r\"$x_1$\", fontsize=18)\n",
    "        plt.ylabel(r\"$x_2$\", fontsize=18, rotation=0)\n",
    "    if legend:\n",
    "        plt.legend(loc=\"lower right\", fontsize=14)\n",
    "\n",
    "plot_decision_boundary(grid_search.best_estimator_,\n",
    "                       dataset[0],\n",
    "                       dataset[1],\n",
    "                       axes=[-2.5, 3.5, -2, 2.5],\n",
    "                       iris=False,\n",
    "                       plot_training=True)\n",
    "\n",
    "plt.show()"
   ]
  },
  {
   "cell_type": "code",
   "execution_count": 51,
   "metadata": {},
   "outputs": [],
   "source": [
    "from sklearn.model_selection import ShuffleSplit\n",
    "from scipy.stats import mode\n",
    "\n",
    "tree_list = [DecisionTreeClassifier(**grid_search.best_params_) for _ in range(1000)]\n",
    "rs = ShuffleSplit(n_splits=10)"
   ]
  },
  {
   "cell_type": "code",
   "execution_count": 71,
   "metadata": {},
   "outputs": [
    {
     "ename": "TypeError",
     "evalue": "cannot unpack non-iterable numpy.int64 object",
     "output_type": "error",
     "traceback": [
      "\u001b[0;31m---------------------------------------------------------------------------\u001b[0m",
      "\u001b[0;31mTypeError\u001b[0m                                 Traceback (most recent call last)",
      "\u001b[0;32m<ipython-input-71-658c1c0eae73>\u001b[0m in \u001b[0;36m<module>\u001b[0;34m\u001b[0m\n\u001b[0;32m----> 1\u001b[0;31m \u001b[0mtrain_data\u001b[0m \u001b[0;34m=\u001b[0m \u001b[0;34m[\u001b[0m\u001b[0mdataset\u001b[0m\u001b[0;34m[\u001b[0m\u001b[0;36m0\u001b[0m\u001b[0;34m]\u001b[0m\u001b[0;34m[\u001b[0m\u001b[0mindices_train\u001b[0m\u001b[0;34m[\u001b[0m\u001b[0;34m:\u001b[0m\u001b[0;36m100\u001b[0m\u001b[0;34m]\u001b[0m\u001b[0;34m]\u001b[0m \u001b[0;32mfor\u001b[0m \u001b[0mindices_train\u001b[0m\u001b[0;34m,\u001b[0m \u001b[0mindices_test\u001b[0m \u001b[0;32min\u001b[0m \u001b[0mlist\u001b[0m\u001b[0;34m(\u001b[0m\u001b[0mrs\u001b[0m\u001b[0;34m.\u001b[0m\u001b[0msplit\u001b[0m\u001b[0;34m(\u001b[0m\u001b[0mdataset\u001b[0m\u001b[0;34m[\u001b[0m\u001b[0;36m0\u001b[0m\u001b[0;34m]\u001b[0m\u001b[0;34m)\u001b[0m\u001b[0;34m)\u001b[0m\u001b[0;34m[\u001b[0m\u001b[0;36m0\u001b[0m\u001b[0;34m]\u001b[0m\u001b[0;34m[\u001b[0m\u001b[0;36m0\u001b[0m\u001b[0;34m]\u001b[0m\u001b[0;34m]\u001b[0m\u001b[0;34m\u001b[0m\u001b[0;34m\u001b[0m\u001b[0m\n\u001b[0m",
      "\u001b[0;32m<ipython-input-71-658c1c0eae73>\u001b[0m in \u001b[0;36m<listcomp>\u001b[0;34m(.0)\u001b[0m\n\u001b[0;32m----> 1\u001b[0;31m \u001b[0mtrain_data\u001b[0m \u001b[0;34m=\u001b[0m \u001b[0;34m[\u001b[0m\u001b[0mdataset\u001b[0m\u001b[0;34m[\u001b[0m\u001b[0;36m0\u001b[0m\u001b[0;34m]\u001b[0m\u001b[0;34m[\u001b[0m\u001b[0mindices_train\u001b[0m\u001b[0;34m[\u001b[0m\u001b[0;34m:\u001b[0m\u001b[0;36m100\u001b[0m\u001b[0;34m]\u001b[0m\u001b[0;34m]\u001b[0m \u001b[0;32mfor\u001b[0m \u001b[0mindices_train\u001b[0m\u001b[0;34m,\u001b[0m \u001b[0mindices_test\u001b[0m \u001b[0;32min\u001b[0m \u001b[0mlist\u001b[0m\u001b[0;34m(\u001b[0m\u001b[0mrs\u001b[0m\u001b[0;34m.\u001b[0m\u001b[0msplit\u001b[0m\u001b[0;34m(\u001b[0m\u001b[0mdataset\u001b[0m\u001b[0;34m[\u001b[0m\u001b[0;36m0\u001b[0m\u001b[0;34m]\u001b[0m\u001b[0;34m)\u001b[0m\u001b[0;34m)\u001b[0m\u001b[0;34m[\u001b[0m\u001b[0;36m0\u001b[0m\u001b[0;34m]\u001b[0m\u001b[0;34m[\u001b[0m\u001b[0;36m0\u001b[0m\u001b[0;34m]\u001b[0m\u001b[0;34m]\u001b[0m\u001b[0;34m\u001b[0m\u001b[0;34m\u001b[0m\u001b[0m\n\u001b[0m",
      "\u001b[0;31mTypeError\u001b[0m: cannot unpack non-iterable numpy.int64 object"
     ]
    }
   ],
   "source": [
    "train_data = [dataset[0][indices_train[:100]] for indices_train, indices_test in list(rs.split(dataset[0]))[0][0]]"
   ]
  },
  {
   "cell_type": "code",
   "execution_count": 70,
   "metadata": {},
   "outputs": [
    {
     "data": {
      "text/plain": [
       "(10, 1000)"
      ]
     },
     "execution_count": 70,
     "metadata": {},
     "output_type": "execute_result"
    }
   ],
   "source": [
    "len(train_data), len(tree_list)"
   ]
  },
  {
   "cell_type": "code",
   "execution_count": 68,
   "metadata": {},
   "outputs": [
    {
     "data": {
      "text/plain": [
       "9000"
      ]
     },
     "execution_count": 68,
     "metadata": {},
     "output_type": "execute_result"
    }
   ],
   "source": [
    "len(list(rs.split(dataset[0]))[0][0])"
   ]
  },
  {
   "cell_type": "markdown",
   "metadata": {},
   "source": [
    "# Correct #8"
   ]
  },
  {
   "cell_type": "code",
   "execution_count": 79,
   "metadata": {},
   "outputs": [
    {
     "ename": "TypeError",
     "evalue": "'tuple' object cannot be interpreted as an integer",
     "output_type": "error",
     "traceback": [
      "\u001b[0;31m---------------------------------------------------------------------------\u001b[0m",
      "\u001b[0;31mTypeError\u001b[0m                                 Traceback (most recent call last)",
      "\u001b[0;32m<ipython-input-79-1f1f4a0de10a>\u001b[0m in \u001b[0;36m<module>\u001b[0;34m\u001b[0m\n\u001b[1;32m      7\u001b[0m                   \u001b[0mtest_size\u001b[0m\u001b[0;34m=\u001b[0m\u001b[0mlen\u001b[0m\u001b[0;34m(\u001b[0m\u001b[0mX_train\u001b[0m\u001b[0;34m)\u001b[0m \u001b[0;34m-\u001b[0m \u001b[0mn_instances\u001b[0m\u001b[0;34m,\u001b[0m\u001b[0;34m\u001b[0m\u001b[0;34m\u001b[0m\u001b[0m\n\u001b[1;32m      8\u001b[0m                   random_state=42)\n\u001b[0;32m----> 9\u001b[0;31m \u001b[0mdataset\u001b[0m \u001b[0;34m=\u001b[0m \u001b[0mlist\u001b[0m\u001b[0;34m(\u001b[0m\u001b[0mrs\u001b[0m\u001b[0;34m.\u001b[0m\u001b[0msplit\u001b[0m\u001b[0;34m(\u001b[0m\u001b[0mX_train\u001b[0m\u001b[0;34m)\u001b[0m\u001b[0;34m)\u001b[0m\u001b[0;34m\u001b[0m\u001b[0;34m\u001b[0m\u001b[0m\n\u001b[0m\u001b[1;32m     10\u001b[0m \u001b[0;34m\u001b[0m\u001b[0m\n\u001b[1;32m     11\u001b[0m \u001b[0;32mfor\u001b[0m \u001b[0mmini_train_index\u001b[0m\u001b[0;34m,\u001b[0m \u001b[0mmini_test_index\u001b[0m \u001b[0;32min\u001b[0m \u001b[0mzip\u001b[0m\u001b[0;34m(\u001b[0m\u001b[0mdataset\u001b[0m\u001b[0;34m[\u001b[0m\u001b[0;36m0\u001b[0m\u001b[0;34m]\u001b[0m\u001b[0;34m,\u001b[0m \u001b[0mdataset\u001b[0m\u001b[0;34m[\u001b[0m\u001b[0;36m1\u001b[0m\u001b[0;34m]\u001b[0m\u001b[0;34m)\u001b[0m\u001b[0;34m:\u001b[0m\u001b[0;34m\u001b[0m\u001b[0;34m\u001b[0m\u001b[0m\n",
      "\u001b[0;32m~/anaconda3/lib/python3.7/site-packages/sklearn/model_selection/_split.py\u001b[0m in \u001b[0;36msplit\u001b[0;34m(self, X, y, groups)\u001b[0m\n\u001b[1;32m   1327\u001b[0m         \"\"\"\n\u001b[1;32m   1328\u001b[0m         \u001b[0mX\u001b[0m\u001b[0;34m,\u001b[0m \u001b[0my\u001b[0m\u001b[0;34m,\u001b[0m \u001b[0mgroups\u001b[0m \u001b[0;34m=\u001b[0m \u001b[0mindexable\u001b[0m\u001b[0;34m(\u001b[0m\u001b[0mX\u001b[0m\u001b[0;34m,\u001b[0m \u001b[0my\u001b[0m\u001b[0;34m,\u001b[0m \u001b[0mgroups\u001b[0m\u001b[0;34m)\u001b[0m\u001b[0;34m\u001b[0m\u001b[0;34m\u001b[0m\u001b[0m\n\u001b[0;32m-> 1329\u001b[0;31m         \u001b[0;32mfor\u001b[0m \u001b[0mtrain\u001b[0m\u001b[0;34m,\u001b[0m \u001b[0mtest\u001b[0m \u001b[0;32min\u001b[0m \u001b[0mself\u001b[0m\u001b[0;34m.\u001b[0m\u001b[0m_iter_indices\u001b[0m\u001b[0;34m(\u001b[0m\u001b[0mX\u001b[0m\u001b[0;34m,\u001b[0m \u001b[0my\u001b[0m\u001b[0;34m,\u001b[0m \u001b[0mgroups\u001b[0m\u001b[0;34m)\u001b[0m\u001b[0;34m:\u001b[0m\u001b[0;34m\u001b[0m\u001b[0;34m\u001b[0m\u001b[0m\n\u001b[0m\u001b[1;32m   1330\u001b[0m             \u001b[0;32myield\u001b[0m \u001b[0mtrain\u001b[0m\u001b[0;34m,\u001b[0m \u001b[0mtest\u001b[0m\u001b[0;34m\u001b[0m\u001b[0;34m\u001b[0m\u001b[0m\n\u001b[1;32m   1331\u001b[0m \u001b[0;34m\u001b[0m\u001b[0m\n",
      "\u001b[0;32m~/anaconda3/lib/python3.7/site-packages/sklearn/model_selection/_split.py\u001b[0m in \u001b[0;36m_iter_indices\u001b[0;34m(self, X, y, groups)\u001b[0m\n\u001b[1;32m   1438\u001b[0m \u001b[0;34m\u001b[0m\u001b[0m\n\u001b[1;32m   1439\u001b[0m         \u001b[0mrng\u001b[0m \u001b[0;34m=\u001b[0m \u001b[0mcheck_random_state\u001b[0m\u001b[0;34m(\u001b[0m\u001b[0mself\u001b[0m\u001b[0;34m.\u001b[0m\u001b[0mrandom_state\u001b[0m\u001b[0;34m)\u001b[0m\u001b[0;34m\u001b[0m\u001b[0;34m\u001b[0m\u001b[0m\n\u001b[0;32m-> 1440\u001b[0;31m         \u001b[0;32mfor\u001b[0m \u001b[0mi\u001b[0m \u001b[0;32min\u001b[0m \u001b[0mrange\u001b[0m\u001b[0;34m(\u001b[0m\u001b[0mself\u001b[0m\u001b[0;34m.\u001b[0m\u001b[0mn_splits\u001b[0m\u001b[0;34m)\u001b[0m\u001b[0;34m:\u001b[0m\u001b[0;34m\u001b[0m\u001b[0;34m\u001b[0m\u001b[0m\n\u001b[0m\u001b[1;32m   1441\u001b[0m             \u001b[0;31m# random partition\u001b[0m\u001b[0;34m\u001b[0m\u001b[0;34m\u001b[0m\u001b[0;34m\u001b[0m\u001b[0m\n\u001b[1;32m   1442\u001b[0m             \u001b[0mpermutation\u001b[0m \u001b[0;34m=\u001b[0m \u001b[0mrng\u001b[0m\u001b[0;34m.\u001b[0m\u001b[0mpermutation\u001b[0m\u001b[0;34m(\u001b[0m\u001b[0mn_samples\u001b[0m\u001b[0;34m)\u001b[0m\u001b[0;34m\u001b[0m\u001b[0;34m\u001b[0m\u001b[0m\n",
      "\u001b[0;31mTypeError\u001b[0m: 'tuple' object cannot be interpreted as an integer"
     ]
    }
   ],
   "source": [
    "n_trees = 1000,\n",
    "n_instances = 100\n",
    "\n",
    "mini_sets = []\n",
    "\n",
    "rs = ShuffleSplit(n_splits=n_trees,\n",
    "                  test_size=len(X_train) - n_instances,\n",
    "                  random_state=42)\n",
    "dataset = list(rs.split(X_train))\n",
    "\n",
    "for mini_train_index, mini_test_index in zip(dataset[0], dataset[1]):\n",
    "    X_mini_train = X_train[mini_train_index]\n",
    "    y_mini_train = y_train[mini_train_index]\n",
    "    mini_sets.append((X_mini_train, y_mini_train))"
   ]
  },
  {
   "cell_type": "code",
   "execution_count": null,
   "metadata": {},
   "outputs": [],
   "source": []
  }
 ],
 "metadata": {
  "kernelspec": {
   "display_name": "Python 3",
   "language": "python",
   "name": "python3"
  },
  "language_info": {
   "codemirror_mode": {
    "name": "ipython",
    "version": 3
   },
   "file_extension": ".py",
   "mimetype": "text/x-python",
   "name": "python",
   "nbconvert_exporter": "python",
   "pygments_lexer": "ipython3",
   "version": "3.7.5"
  }
 },
 "nbformat": 4,
 "nbformat_minor": 2
}
