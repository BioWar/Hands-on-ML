{
 "cells": [
  {
   "cell_type": "markdown",
   "metadata": {},
   "source": [
    "#### Question #1: How would you define ML?\n",
    "\n",
    "ML is a science sphere which makes possible reasonable forecasting for the problems for which developing of algorithm would be impossible."
   ]
  },
  {
   "cell_type": "markdown",
   "metadata": {},
   "source": [
    "#### Question #2: Can you name four types of problems where it shines?\n",
    "\n",
    "Replace long lists of hand-tuned rules, build systems that adapt to fluctuating environments, help humans learn."
   ]
  },
  {
   "cell_type": "markdown",
   "metadata": {},
   "source": [
    "#### Question #3: What is a labeled training set?\n",
    "\n",
    "It is a training set where features of data marked by scientist. For example ham and spam emails in training dataset for spam system."
   ]
  },
  {
   "cell_type": "markdown",
   "metadata": {},
   "source": [
    "#### Question #4: What are the two most common supervised tasks?\n",
    "\n",
    "Classification, regression."
   ]
  },
  {
   "cell_type": "markdown",
   "metadata": {},
   "source": [
    "#### Question #5: Can you name four common unsupervised tasks?\n",
    "\n",
    "Dimensionality reduction, clustering, visualization, association rule learning. "
   ]
  },
  {
   "cell_type": "markdown",
   "metadata": {},
   "source": [
    "#### Question #6: What type of ML algorithm would you use to allow a robot to walk in various unknown terrains?\n",
    "\n",
    "Reinforcement learning"
   ]
  },
  {
   "cell_type": "markdown",
   "metadata": {},
   "source": [
    "#### Question #7: What type of algo. would you use to segment your customers into multiple groups?\n",
    "\n",
    "Hierarchical Cluster Analysis"
   ]
  },
  {
   "cell_type": "markdown",
   "metadata": {},
   "source": [
    "#### Question #8: Would you frame the problem of spam detection as a supervised learning problem or an unsupervised learning problem?\n",
    "\n",
    "First."
   ]
  },
  {
   "cell_type": "markdown",
   "metadata": {},
   "source": [
    "#### Question #9: What is an online learning system?\n",
    "\n",
    "It is a ML model which can learn incrementally during the production conditions, when new data comes model will learn and predict with it."
   ]
  },
  {
   "cell_type": "markdown",
   "metadata": {},
   "source": [
    "#### Question #10: What is out-of-core learning?\n",
    "\n",
    "When dataset is extremely big learning would be possibly with mini-batches, up to the moment all data would be analyzed."
   ]
  },
  {
   "cell_type": "markdown",
   "metadata": {},
   "source": [
    "#### Question #11: What type of learning algorithm relies on a similarity measure to make predictions?\n",
    "\n",
    "Instance-based algorithm."
   ]
  },
  {
   "cell_type": "markdown",
   "metadata": {},
   "source": [
    "#### Question #12: What is the difference between a model parameter and a learning algorithm's hyperparameter?\n",
    "\n",
    "Model parameter would be updated continuously during learning but hyperparameters could be chosen only at the beginning of learning process."
   ]
  },
  {
   "cell_type": "markdown",
   "metadata": {},
   "source": [
    "#### Question #13: What do model-based learning algorithms search for? What is the most common strategy they use to succeed? How do they make predictions?\n",
    "\n",
    "This ML algo searches for best model parameters instead of simple instance similarity. Minimizing cost function, penalty for model complexity. Predictions are based on instance features."
   ]
  },
  {
   "cell_type": "markdown",
   "metadata": {},
   "source": [
    "#### Question #14: Can you name four of the main challenges in Machine Learning?\n",
    "\n",
    "Dimensionality curse, bad initial data, feature extraction, model selection."
   ]
  },
  {
   "cell_type": "markdown",
   "metadata": {},
   "source": [
    "#### Question #15: If your model performs great on the training data but generalizes poorly to new instances, what is happening? Can you name three possible solutions?\n",
    "\n",
    "Model overfitting happaned. More data, simplifying the model, reduce noise in data."
   ]
  },
  {
   "cell_type": "markdown",
   "metadata": {},
   "source": [
    "#### Question #16: What is a test set, and why would you want to use it?\n",
    "\n",
    "For testing your model after learning. New data have to have about the same prediction accuracy as training data. Generalization error."
   ]
  },
  {
   "cell_type": "markdown",
   "metadata": {},
   "source": [
    "#### Question #17:  What is the purpose of a validation set?\n",
    "\n",
    "For validation of models and chosing the best one."
   ]
  },
  {
   "cell_type": "code",
   "execution_count": null,
   "metadata": {},
   "outputs": [],
   "source": []
  }
 ],
 "metadata": {
  "kernelspec": {
   "display_name": "Python 3",
   "language": "python",
   "name": "python3"
  },
  "language_info": {
   "codemirror_mode": {
    "name": "ipython",
    "version": 3
   },
   "file_extension": ".py",
   "mimetype": "text/x-python",
   "name": "python",
   "nbconvert_exporter": "python",
   "pygments_lexer": "ipython3",
   "version": "3.7.5"
  }
 },
 "nbformat": 4,
 "nbformat_minor": 2
}
