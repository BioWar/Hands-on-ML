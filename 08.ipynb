{
 "cells": [
  {
   "cell_type": "code",
   "execution_count": 1,
   "metadata": {},
   "outputs": [],
   "source": [
    "# Python ≥3.5 is required\n",
    "import sys\n",
    "assert sys.version_info >= (3, 5)\n",
    "\n",
    "# Scikit-Learn ≥0.20 is required\n",
    "import sklearn\n",
    "assert sklearn.__version__ >= \"0.20\"\n",
    "\n",
    "# Common imports\n",
    "import numpy as np\n",
    "import os\n",
    "\n",
    "# to make this notebook's output stable across runs\n",
    "np.random.seed(42)\n",
    "\n",
    "# To plot pretty figures\n",
    "%matplotlib inline\n",
    "import matplotlib as mpl\n",
    "import matplotlib.pyplot as plt\n",
    "mpl.rc('axes', labelsize=14)\n",
    "mpl.rc('xtick', labelsize=12)\n",
    "mpl.rc('ytick', labelsize=12)\n",
    "\n",
    "# Where to save the figures\n",
    "PROJECT_ROOT_DIR = \".\"\n",
    "CHAPTER_ID = \"dim_reduction\"\n",
    "IMAGES_PATH = os.path.join(PROJECT_ROOT_DIR, \"images\", CHAPTER_ID)\n",
    "os.makedirs(IMAGES_PATH, exist_ok=True)\n",
    "\n",
    "def save_fig(fig_id, tight_layout=True, fig_extension=\"png\", resolution=300):\n",
    "    path = os.path.join(IMAGES_PATH, fig_id + \".\" + fig_extension)\n",
    "    print(\"Saving figure\", fig_id)\n",
    "    if tight_layout:\n",
    "        plt.tight_layout()\n",
    "    plt.savefig(path, format=fig_extension, dpi=resolution)\n",
    "\n",
    "# Ignore useless warnings (see SciPy issue #5998)\n",
    "import warnings\n",
    "warnings.filterwarnings(action=\"ignore\", message=\"^internal gelsd\")"
   ]
  },
  {
   "cell_type": "code",
   "execution_count": 2,
   "metadata": {},
   "outputs": [],
   "source": [
    "np.random.seed(4)\n",
    "m = 60\n",
    "w1, w2 = 0.1, 0.3\n",
    "noise = 0.1\n",
    "\n",
    "angles = np.random.rand(m) * 3 * np.pi / 2 - 0.5\n",
    "X = np.empty((m, 3))\n",
    "X[:, 0] = np.cos(angles) + np.sin(angles)/2 + noise * np.random.randn(m) / 2\n",
    "X[:, 1] = np.sin(angles) * 0.7 + noise * np.random.randn(m) / 2\n",
    "X[:, 2] = X[:, 0] * w1 + X[:, 1] * w2 + noise * np.random.randn(m)"
   ]
  },
  {
   "cell_type": "code",
   "execution_count": 3,
   "metadata": {},
   "outputs": [],
   "source": [
    "X_centered = X - X.mean(axis=0)\n",
    "U, s, Vt = np.linalg.svd(X_centered)\n",
    "c1 = Vt.T[:, 0]\n",
    "c2 = Vt.T[:, 1]"
   ]
  },
  {
   "cell_type": "code",
   "execution_count": 4,
   "metadata": {},
   "outputs": [],
   "source": [
    "W2 = Vt.T[:, :2]\n",
    "X2D = X_centered.dot(W2)"
   ]
  },
  {
   "cell_type": "code",
   "execution_count": 5,
   "metadata": {},
   "outputs": [],
   "source": [
    "from sklearn.decomposition import PCA\n",
    "\n",
    "pca = PCA(n_components=2)\n",
    "X2D = pca.fit_transform(X)"
   ]
  },
  {
   "cell_type": "code",
   "execution_count": 6,
   "metadata": {},
   "outputs": [
    {
     "data": {
      "text/plain": [
       "array([-0.93636116, -0.29854881, -0.18465208])"
      ]
     },
     "execution_count": 6,
     "metadata": {},
     "output_type": "execute_result"
    }
   ],
   "source": [
    "pca.components_.T[:, 0]"
   ]
  },
  {
   "cell_type": "code",
   "execution_count": 7,
   "metadata": {},
   "outputs": [
    {
     "data": {
      "text/plain": [
       "array([0.84248607, 0.14631839])"
      ]
     },
     "execution_count": 7,
     "metadata": {},
     "output_type": "execute_result"
    }
   ],
   "source": [
    "pca.explained_variance_ratio_"
   ]
  },
  {
   "cell_type": "code",
   "execution_count": 9,
   "metadata": {},
   "outputs": [],
   "source": [
    "from sklearn.datasets import fetch_openml\n",
    "\n",
    "mnist = fetch_openml('mnist_784', version=1)\n",
    "mnist.target = mnist.target.astype(np.uint8)"
   ]
  },
  {
   "cell_type": "code",
   "execution_count": 10,
   "metadata": {},
   "outputs": [],
   "source": [
    "from sklearn.model_selection import train_test_split\n",
    "\n",
    "X = mnist[\"data\"]\n",
    "y = mnist[\"target\"]\n",
    "\n",
    "X_train, X_test, y_train, y_test = train_test_split(X, y)"
   ]
  },
  {
   "cell_type": "code",
   "execution_count": 11,
   "metadata": {},
   "outputs": [],
   "source": [
    "pca = PCA()\n",
    "pca.fit(X_train)\n",
    "cumsum = np.cumsum(pca.explained_variance_ratio_)\n",
    "d = np.argmax(cumsum >= 0.95) + 1\n",
    "\n",
    "pca = PCA(n_components=0.95)\n",
    "X_reduces = pca.fit_transform(X_train)"
   ]
  },
  {
   "cell_type": "code",
   "execution_count": 12,
   "metadata": {},
   "outputs": [
    {
     "data": {
      "text/plain": [
       "154"
      ]
     },
     "execution_count": 12,
     "metadata": {},
     "output_type": "execute_result"
    }
   ],
   "source": [
    "d"
   ]
  },
  {
   "cell_type": "code",
   "execution_count": 13,
   "metadata": {},
   "outputs": [
    {
     "data": {
      "text/plain": [
       "((52500, 154), (52500, 784))"
      ]
     },
     "execution_count": 13,
     "metadata": {},
     "output_type": "execute_result"
    }
   ],
   "source": [
    "X_reduces.shape, X_train.shape"
   ]
  },
  {
   "cell_type": "code",
   "execution_count": 14,
   "metadata": {},
   "outputs": [],
   "source": [
    "pca = PCA(n_components=154)\n",
    "X_reduced = pca.fit_transform(X_train)\n",
    "X_recovered = pca.inverse_transform(X_reduced)"
   ]
  },
  {
   "cell_type": "code",
   "execution_count": 15,
   "metadata": {},
   "outputs": [],
   "source": [
    "def plot_digits(instances, images_per_row=5, **options):\n",
    "    size = 28\n",
    "    images_per_row = min(len(instances), images_per_row)\n",
    "    images = [instance.reshape(size,size) for instance in instances]\n",
    "    n_rows = (len(instances) - 1) // images_per_row + 1\n",
    "    row_images = []\n",
    "    n_empty = n_rows * images_per_row - len(instances)\n",
    "    images.append(np.zeros((size, size * n_empty)))\n",
    "    for row in range(n_rows):\n",
    "        rimages = images[row * images_per_row : (row + 1) * images_per_row]\n",
    "        row_images.append(np.concatenate(rimages, axis=1))\n",
    "    image = np.concatenate(row_images, axis=0)\n",
    "    plt.imshow(image, cmap = mpl.cm.binary, **options)\n",
    "    plt.axis(\"off\")"
   ]
  },
  {
   "cell_type": "code",
   "execution_count": 16,
   "metadata": {},
   "outputs": [
    {
     "name": "stdout",
     "output_type": "stream",
     "text": [
      "Saving figure mnist_compression_plot\n"
     ]
    },
    {
     "data": {
      "image/png": "[encoded data removed]",
      "text/plain": [
       "<Figure size 504x288 with 2 Axes>"
      ]
     },
     "metadata": {
      "needs_background": "light"
     },
     "output_type": "display_data"
    }
   ],
   "source": [
    "plt.figure(figsize=(7, 4))\n",
    "plt.subplot(121)\n",
    "plot_digits(X_train[::2100])\n",
    "plt.title(\"Original\", fontsize=16)\n",
    "plt.subplot(122)\n",
    "plot_digits(X_recovered[::2100])\n",
    "plt.title(\"Compressed\", fontsize=16)\n",
    "\n",
    "save_fig(\"mnist_compression_plot\")"
   ]
  },
  {
   "cell_type": "code",
   "execution_count": 18,
   "metadata": {},
   "outputs": [
    {
     "name": "stdout",
     "output_type": "stream",
     "text": [
      "CPU times: user 27.6 s, sys: 1.02 s, total: 28.7 s\n",
      "Wall time: 16.8 s\n"
     ]
    }
   ],
   "source": [
    "%%time\n",
    "rnd_pca = PCA(n_components=154, svd_solver=\"randomized\")\n",
    "X_reduced = rnd_pca.fit_transform(X_train)"
   ]
  },
  {
   "cell_type": "code",
   "execution_count": 19,
   "metadata": {},
   "outputs": [
    {
     "name": "stdout",
     "output_type": "stream",
     "text": [
      "CPU times: user 40.8 s, sys: 439 ms, total: 41.2 s\n",
      "Wall time: 24.9 s\n"
     ]
    }
   ],
   "source": [
    "%%time\n",
    "rnd_pca = PCA(n_components=154, svd_solver=\"full\")\n",
    "X_reduced = rnd_pca.fit_transform(X_train)"
   ]
  },
  {
   "cell_type": "code",
   "execution_count": 20,
   "metadata": {},
   "outputs": [
    {
     "name": "stdout",
     "output_type": "stream",
     "text": [
      "CPU times: user 1min 38s, sys: 2.16 s, total: 1min 40s\n",
      "Wall time: 1min 6s\n"
     ]
    }
   ],
   "source": [
    "%%time\n",
    "from sklearn.decomposition import IncrementalPCA\n",
    "\n",
    "n_batches = 100\n",
    "inc_pca = IncrementalPCA(n_components=154)\n",
    "for X_batch in np.array_split(X_train, n_batches):\n",
    "    inc_pca.partial_fit(X_batch)\n",
    "    \n",
    "X_reduced = inc_pca.transform(X_train)"
   ]
  },
  {
   "cell_type": "code",
   "execution_count": 21,
   "metadata": {},
   "outputs": [],
   "source": [
    "filename = \"my_mnist.data\"\n",
    "m, n = X_train.shape\n",
    "\n",
    "X_mm = np.memmap(filename, dtype='float32', mode='write', shape=(m, n))\n",
    "X_mm[:] = X_train"
   ]
  },
  {
   "cell_type": "code",
   "execution_count": 22,
   "metadata": {},
   "outputs": [],
   "source": [
    "del X_mm"
   ]
  },
  {
   "cell_type": "code",
   "execution_count": 23,
   "metadata": {},
   "outputs": [
    {
     "name": "stdout",
     "output_type": "stream",
     "text": [
      "CPU times: user 1min 34s, sys: 1.36 s, total: 1min 35s\n",
      "Wall time: 55.9 s\n"
     ]
    },
    {
     "data": {
      "text/plain": [
       "IncrementalPCA(batch_size=525, copy=True, n_components=154, whiten=False)"
      ]
     },
     "execution_count": 23,
     "metadata": {},
     "output_type": "execute_result"
    }
   ],
   "source": [
    "%%time\n",
    "X_mm = np.memmap(filename,\n",
    "                 dtype=\"float32\",\n",
    "                 mode=\"readonly\",\n",
    "                 shape=(m,n))\n",
    "\n",
    "batch_size = m // n_batches\n",
    "inc_pca = IncrementalPCA(n_components=154,\n",
    "                         batch_size=batch_size)\n",
    "inc_pca.fit(X_mm)"
   ]
  },
  {
   "cell_type": "code",
   "execution_count": 25,
   "metadata": {},
   "outputs": [],
   "source": [
    "from sklearn.decomposition import KernelPCA\n",
    "from sklearn.datasets import make_swiss_roll\n",
    "\n",
    "X, t = make_swiss_roll(n_samples=1000, noise=0.2, random_state=42)\n",
    "\n",
    "rbf_pca = KernelPCA(n_components=2,\n",
    "                    kernel=\"rbf\",\n",
    "                    gamma=0.04)\n",
    "X_reduced = rbf_pca.fit_transform(X)"
   ]
  },
  {
   "cell_type": "code",
   "execution_count": 28,
   "metadata": {},
   "outputs": [
    {
     "name": "stdout",
     "output_type": "stream",
     "text": [
      "Fitting 3 folds for each of 20 candidates, totalling 60 fits\n",
      "[CV] kpca__gamma=0.03, kpca__kernel=rbf ..............................\n",
      "[CV] ............... kpca__gamma=0.03, kpca__kernel=rbf, total=   0.1s\n",
      "[CV] kpca__gamma=0.03, kpca__kernel=rbf ..............................\n",
      "[CV] ............... kpca__gamma=0.03, kpca__kernel=rbf, total=   0.1s\n",
      "[CV] kpca__gamma=0.03, kpca__kernel=rbf ..............................\n"
     ]
    },
    {
     "name": "stderr",
     "output_type": "stream",
     "text": [
      "[Parallel(n_jobs=1)]: Using backend SequentialBackend with 1 concurrent workers.\n",
      "[Parallel(n_jobs=1)]: Done   1 out of   1 | elapsed:    0.1s remaining:    0.0s\n"
     ]
    },
    {
     "name": "stdout",
     "output_type": "stream",
     "text": [
      "[CV] ............... kpca__gamma=0.03, kpca__kernel=rbf, total=   0.1s\n",
      "[CV] kpca__gamma=0.03, kpca__kernel=sigmoid ..........................\n",
      "[CV] ........... kpca__gamma=0.03, kpca__kernel=sigmoid, total=   0.1s\n",
      "[CV] kpca__gamma=0.03, kpca__kernel=sigmoid ..........................\n",
      "[CV] ........... kpca__gamma=0.03, kpca__kernel=sigmoid, total=   0.0s\n",
      "[CV] kpca__gamma=0.03, kpca__kernel=sigmoid ..........................\n",
      "[CV] ........... kpca__gamma=0.03, kpca__kernel=sigmoid, total=   0.1s\n",
      "[CV] kpca__gamma=0.03222222222222222, kpca__kernel=rbf ...............\n",
      "[CV]  kpca__gamma=0.03222222222222222, kpca__kernel=rbf, total=   0.1s\n",
      "[CV] kpca__gamma=0.03222222222222222, kpca__kernel=rbf ...............\n",
      "[CV]  kpca__gamma=0.03222222222222222, kpca__kernel=rbf, total=   0.1s\n",
      "[CV] kpca__gamma=0.03222222222222222, kpca__kernel=rbf ...............\n",
      "[CV]  kpca__gamma=0.03222222222222222, kpca__kernel=rbf, total=   0.1s\n",
      "[CV] kpca__gamma=0.03222222222222222, kpca__kernel=sigmoid ...........\n",
      "[CV]  kpca__gamma=0.03222222222222222, kpca__kernel=sigmoid, total=   0.1s\n",
      "[CV] kpca__gamma=0.03222222222222222, kpca__kernel=sigmoid ...........\n",
      "[CV]  kpca__gamma=0.03222222222222222, kpca__kernel=sigmoid, total=   0.1s\n",
      "[CV] kpca__gamma=0.03222222222222222, kpca__kernel=sigmoid ...........\n",
      "[CV]  kpca__gamma=0.03222222222222222, kpca__kernel=sigmoid, total=   0.1s\n",
      "[CV] kpca__gamma=0.034444444444444444, kpca__kernel=rbf ..............\n",
      "[CV]  kpca__gamma=0.034444444444444444, kpca__kernel=rbf, total=   0.1s\n",
      "[CV] kpca__gamma=0.034444444444444444, kpca__kernel=rbf ..............\n",
      "[CV]  kpca__gamma=0.034444444444444444, kpca__kernel=rbf, total=   0.1s\n",
      "[CV] kpca__gamma=0.034444444444444444, kpca__kernel=rbf ..............\n",
      "[CV]  kpca__gamma=0.034444444444444444, kpca__kernel=rbf, total=   0.1s\n",
      "[CV] kpca__gamma=0.034444444444444444, kpca__kernel=sigmoid ..........\n",
      "[CV]  kpca__gamma=0.034444444444444444, kpca__kernel=sigmoid, total=   0.0s\n",
      "[CV] kpca__gamma=0.034444444444444444, kpca__kernel=sigmoid ..........\n",
      "[CV]  kpca__gamma=0.034444444444444444, kpca__kernel=sigmoid, total=   0.1s\n",
      "[CV] kpca__gamma=0.034444444444444444, kpca__kernel=sigmoid ..........\n",
      "[CV]  kpca__gamma=0.034444444444444444, kpca__kernel=sigmoid, total=   0.1s\n",
      "[CV] kpca__gamma=0.03666666666666667, kpca__kernel=rbf ...............\n",
      "[CV]  kpca__gamma=0.03666666666666667, kpca__kernel=rbf, total=   0.1s\n",
      "[CV] kpca__gamma=0.03666666666666667, kpca__kernel=rbf ...............\n",
      "[CV]  kpca__gamma=0.03666666666666667, kpca__kernel=rbf, total=   0.2s\n",
      "[CV] kpca__gamma=0.03666666666666667, kpca__kernel=rbf ...............\n",
      "[CV]  kpca__gamma=0.03666666666666667, kpca__kernel=rbf, total=   0.1s\n",
      "[CV] kpca__gamma=0.03666666666666667, kpca__kernel=sigmoid ...........\n",
      "[CV]  kpca__gamma=0.03666666666666667, kpca__kernel=sigmoid, total=   0.0s\n",
      "[CV] kpca__gamma=0.03666666666666667, kpca__kernel=sigmoid ...........\n",
      "[CV]  kpca__gamma=0.03666666666666667, kpca__kernel=sigmoid, total=   0.0s\n",
      "[CV] kpca__gamma=0.03666666666666667, kpca__kernel=sigmoid ...........\n",
      "[CV]  kpca__gamma=0.03666666666666667, kpca__kernel=sigmoid, total=   0.1s\n",
      "[CV] kpca__gamma=0.03888888888888889, kpca__kernel=rbf ...............\n",
      "[CV]  kpca__gamma=0.03888888888888889, kpca__kernel=rbf, total=   0.1s\n",
      "[CV] kpca__gamma=0.03888888888888889, kpca__kernel=rbf ...............\n",
      "[CV]  kpca__gamma=0.03888888888888889, kpca__kernel=rbf, total=   0.1s\n",
      "[CV] kpca__gamma=0.03888888888888889, kpca__kernel=rbf ...............\n",
      "[CV]  kpca__gamma=0.03888888888888889, kpca__kernel=rbf, total=   0.1s\n",
      "[CV] kpca__gamma=0.03888888888888889, kpca__kernel=sigmoid ...........\n",
      "[CV]  kpca__gamma=0.03888888888888889, kpca__kernel=sigmoid, total=   0.0s\n",
      "[CV] kpca__gamma=0.03888888888888889, kpca__kernel=sigmoid ...........\n",
      "[CV]  kpca__gamma=0.03888888888888889, kpca__kernel=sigmoid, total=   0.0s\n",
      "[CV] kpca__gamma=0.03888888888888889, kpca__kernel=sigmoid ...........\n",
      "[CV]  kpca__gamma=0.03888888888888889, kpca__kernel=sigmoid, total=   0.1s\n",
      "[CV] kpca__gamma=0.04111111111111111, kpca__kernel=rbf ...............\n",
      "[CV]  kpca__gamma=0.04111111111111111, kpca__kernel=rbf, total=   0.1s\n",
      "[CV] kpca__gamma=0.04111111111111111, kpca__kernel=rbf ...............\n",
      "[CV]  kpca__gamma=0.04111111111111111, kpca__kernel=rbf, total=   0.1s\n",
      "[CV] kpca__gamma=0.04111111111111111, kpca__kernel=rbf ...............\n",
      "[CV]  kpca__gamma=0.04111111111111111, kpca__kernel=rbf, total=   0.1s\n",
      "[CV] kpca__gamma=0.04111111111111111, kpca__kernel=sigmoid ...........\n",
      "[CV]  kpca__gamma=0.04111111111111111, kpca__kernel=sigmoid, total=   0.1s\n",
      "[CV] kpca__gamma=0.04111111111111111, kpca__kernel=sigmoid ...........\n",
      "[CV]  kpca__gamma=0.04111111111111111, kpca__kernel=sigmoid, total=   0.1s\n",
      "[CV] kpca__gamma=0.04111111111111111, kpca__kernel=sigmoid ...........\n",
      "[CV]  kpca__gamma=0.04111111111111111, kpca__kernel=sigmoid, total=   0.1s\n",
      "[CV] kpca__gamma=0.043333333333333335, kpca__kernel=rbf ..............\n",
      "[CV]  kpca__gamma=0.043333333333333335, kpca__kernel=rbf, total=   0.1s\n",
      "[CV] kpca__gamma=0.043333333333333335, kpca__kernel=rbf ..............\n",
      "[CV]  kpca__gamma=0.043333333333333335, kpca__kernel=rbf, total=   0.1s\n",
      "[CV] kpca__gamma=0.043333333333333335, kpca__kernel=rbf ..............\n",
      "[CV]  kpca__gamma=0.043333333333333335, kpca__kernel=rbf, total=   0.1s\n",
      "[CV] kpca__gamma=0.043333333333333335, kpca__kernel=sigmoid ..........\n",
      "[CV]  kpca__gamma=0.043333333333333335, kpca__kernel=sigmoid, total=   0.1s\n",
      "[CV] kpca__gamma=0.043333333333333335, kpca__kernel=sigmoid ..........\n",
      "[CV]  kpca__gamma=0.043333333333333335, kpca__kernel=sigmoid, total=   0.1s\n",
      "[CV] kpca__gamma=0.043333333333333335, kpca__kernel=sigmoid ..........\n",
      "[CV]  kpca__gamma=0.043333333333333335, kpca__kernel=sigmoid, total=   0.1s\n",
      "[CV] kpca__gamma=0.04555555555555556, kpca__kernel=rbf ...............\n",
      "[CV]  kpca__gamma=0.04555555555555556, kpca__kernel=rbf, total=   0.1s\n",
      "[CV] kpca__gamma=0.04555555555555556, kpca__kernel=rbf ...............\n",
      "[CV]  kpca__gamma=0.04555555555555556, kpca__kernel=rbf, total=   0.1s\n",
      "[CV] kpca__gamma=0.04555555555555556, kpca__kernel=rbf ...............\n",
      "[CV]  kpca__gamma=0.04555555555555556, kpca__kernel=rbf, total=   0.1s\n",
      "[CV] kpca__gamma=0.04555555555555556, kpca__kernel=sigmoid ...........\n",
      "[CV]  kpca__gamma=0.04555555555555556, kpca__kernel=sigmoid, total=   0.1s\n",
      "[CV] kpca__gamma=0.04555555555555556, kpca__kernel=sigmoid ...........\n",
      "[CV]  kpca__gamma=0.04555555555555556, kpca__kernel=sigmoid, total=   0.1s\n",
      "[CV] kpca__gamma=0.04555555555555556, kpca__kernel=sigmoid ...........\n",
      "[CV]  kpca__gamma=0.04555555555555556, kpca__kernel=sigmoid, total=   0.1s\n",
      "[CV] kpca__gamma=0.04777777777777778, kpca__kernel=rbf ...............\n",
      "[CV]  kpca__gamma=0.04777777777777778, kpca__kernel=rbf, total=   0.1s\n",
      "[CV] kpca__gamma=0.04777777777777778, kpca__kernel=rbf ...............\n",
      "[CV]  kpca__gamma=0.04777777777777778, kpca__kernel=rbf, total=   0.1s\n",
      "[CV] kpca__gamma=0.04777777777777778, kpca__kernel=rbf ...............\n",
      "[CV]  kpca__gamma=0.04777777777777778, kpca__kernel=rbf, total=   0.1s\n",
      "[CV] kpca__gamma=0.04777777777777778, kpca__kernel=sigmoid ...........\n",
      "[CV]  kpca__gamma=0.04777777777777778, kpca__kernel=sigmoid, total=   0.1s\n",
      "[CV] kpca__gamma=0.04777777777777778, kpca__kernel=sigmoid ...........\n",
      "[CV]  kpca__gamma=0.04777777777777778, kpca__kernel=sigmoid, total=   0.1s\n",
      "[CV] kpca__gamma=0.04777777777777778, kpca__kernel=sigmoid ...........\n",
      "[CV]  kpca__gamma=0.04777777777777778, kpca__kernel=sigmoid, total=   0.1s\n",
      "[CV] kpca__gamma=0.05, kpca__kernel=rbf ..............................\n",
      "[CV] ............... kpca__gamma=0.05, kpca__kernel=rbf, total=   0.1s\n",
      "[CV] kpca__gamma=0.05, kpca__kernel=rbf ..............................\n",
      "[CV] ............... kpca__gamma=0.05, kpca__kernel=rbf, total=   0.1s\n",
      "[CV] kpca__gamma=0.05, kpca__kernel=rbf ..............................\n",
      "[CV] ............... kpca__gamma=0.05, kpca__kernel=rbf, total=   0.1s\n",
      "[CV] kpca__gamma=0.05, kpca__kernel=sigmoid ..........................\n",
      "[CV] ........... kpca__gamma=0.05, kpca__kernel=sigmoid, total=   0.0s\n",
      "[CV] kpca__gamma=0.05, kpca__kernel=sigmoid ..........................\n",
      "[CV] ........... kpca__gamma=0.05, kpca__kernel=sigmoid, total=   0.1s\n",
      "[CV] kpca__gamma=0.05, kpca__kernel=sigmoid ..........................\n",
      "[CV] ........... kpca__gamma=0.05, kpca__kernel=sigmoid, total=   0.1s\n"
     ]
    },
    {
     "name": "stderr",
     "output_type": "stream",
     "text": [
      "[Parallel(n_jobs=1)]: Done  60 out of  60 | elapsed:    4.5s finished\n"
     ]
    },
    {
     "data": {
      "text/plain": [
       "GridSearchCV(cv=3, error_score=nan,\n",
       "             estimator=Pipeline(memory=None,\n",
       "                                steps=[('kpca',\n",
       "                                        KernelPCA(alpha=1.0, coef0=1,\n",
       "                                                  copy_X=True, degree=3,\n",
       "                                                  eigen_solver='auto',\n",
       "                                                  fit_inverse_transform=False,\n",
       "                                                  gamma=None, kernel='linear',\n",
       "                                                  kernel_params=None,\n",
       "                                                  max_iter=None, n_components=2,\n",
       "                                                  n_jobs=None,\n",
       "                                                  random_state=None,\n",
       "                                                  remove_zero_eig=False,\n",
       "                                                  tol=0)),\n",
       "                                       ('log_reg',\n",
       "                                        LogisticRegression(C=1.0,\n",
       "                                                           cl...\n",
       "                                                           solver='lbfgs',\n",
       "                                                           tol=0.0001,\n",
       "                                                           verbose=0,\n",
       "                                                           warm_start=False))],\n",
       "                                verbose=False),\n",
       "             iid='deprecated', n_jobs=None,\n",
       "             param_grid=[{'kpca__gamma': array([0.03      , 0.03222222, 0.03444444, 0.03666667, 0.03888889,\n",
       "       0.04111111, 0.04333333, 0.04555556, 0.04777778, 0.05      ]),\n",
       "                          'kpca__kernel': ['rbf', 'sigmoid']}],\n",
       "             pre_dispatch='2*n_jobs', refit=True, return_train_score=False,\n",
       "             scoring=None, verbose=2)"
      ]
     },
     "execution_count": 28,
     "metadata": {},
     "output_type": "execute_result"
    }
   ],
   "source": [
    "from sklearn.model_selection import GridSearchCV\n",
    "from sklearn.linear_model import LogisticRegression\n",
    "from sklearn.pipeline import Pipeline\n",
    "\n",
    "y = t > 6.9\n",
    "\n",
    "clf = Pipeline([\n",
    "    (\"kpca\", KernelPCA(n_components=2)),\n",
    "    (\"log_reg\", LogisticRegression())\n",
    "])\n",
    "\n",
    "param_grid = [{\n",
    "    \"kpca__gamma\": np.linspace(0.03, 0.05, 10),\n",
    "    \"kpca__kernel\": [\"rbf\", \"sigmoid\"]\n",
    "}]\n",
    "\n",
    "grid_search = GridSearchCV(clf, param_grid, cv=3, verbose=2)\n",
    "grid_search.fit(X, y)"
   ]
  },
  {
   "cell_type": "code",
   "execution_count": 29,
   "metadata": {},
   "outputs": [
    {
     "name": "stdout",
     "output_type": "stream",
     "text": [
      "{'kpca__gamma': 0.043333333333333335, 'kpca__kernel': 'rbf'}\n"
     ]
    }
   ],
   "source": [
    "print(grid_search.best_params_)"
   ]
  },
  {
   "cell_type": "code",
   "execution_count": 31,
   "metadata": {},
   "outputs": [],
   "source": [
    "rbf_pca = KernelPCA(n_components=2,\n",
    "                    kernel=\"rbf\",\n",
    "                    gamma=0.4333,\n",
    "                    fit_inverse_transform=True)\n",
    "X_reduced = rbf_pca.fit_transform(X)\n",
    "X_preimage = rbf_pca.inverse_transform(X_reduced)"
   ]
  },
  {
   "cell_type": "code",
   "execution_count": 32,
   "metadata": {},
   "outputs": [
    {
     "data": {
      "text/plain": [
       "41.67807992297648"
      ]
     },
     "execution_count": 32,
     "metadata": {},
     "output_type": "execute_result"
    }
   ],
   "source": [
    "from sklearn.metrics import mean_squared_error\n",
    "mean_squared_error(X, X_preimage)"
   ]
  },
  {
   "cell_type": "code",
   "execution_count": 34,
   "metadata": {},
   "outputs": [],
   "source": [
    "from sklearn.manifold import LocallyLinearEmbedding\n",
    "\n",
    "lle = LocallyLinearEmbedding(n_components=2,\n",
    "                             n_neighbors=10)\n",
    "X_reduced = lle.fit_transform(X)"
   ]
  },
  {
   "cell_type": "code",
   "execution_count": null,
   "metadata": {},
   "outputs": [],
   "source": []
  }
 ],
 "metadata": {
  "kernelspec": {
   "display_name": "Python 3",
   "language": "python",
   "name": "python3"
  },
  "language_info": {
   "codemirror_mode": {
    "name": "ipython",
    "version": 3
   },
   "file_extension": ".py",
   "mimetype": "text/x-python",
   "name": "python",
   "nbconvert_exporter": "python",
   "pygments_lexer": "ipython3",
   "version": "3.7.5"
  }
 },
 "nbformat": 4,
 "nbformat_minor": 2
}
